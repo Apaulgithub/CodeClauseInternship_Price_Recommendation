{
  "cells": [
    {
      "cell_type": "markdown",
      "metadata": {
        "id": "view-in-github",
        "colab_type": "text"
      },
      "source": [
        "<a href=\"https://colab.research.google.com/github/Apaulgithub/CodeClauseInternship_Price_Recommendation/blob/main/Price_Recommendation_for_Online_Sellers.ipynb\" target=\"_parent\"><img src=\"https://colab.research.google.com/assets/colab-badge.svg\" alt=\"Open In Colab\"/></a>"
      ]
    },
    {
      "cell_type": "markdown",
      "metadata": {
        "id": "vncDsAP0Gaoa"
      },
      "source": [
        "# **Project Name**    - Price Recommendation for Online Sellers\n"
      ]
    },
    {
      "cell_type": "markdown",
      "metadata": {
        "id": "beRrZCGUAJYm"
      },
      "source": [
        "##### **Project Type**    - Unsupervised\n",
        "##### **Industry**    - Code Clause\n",
        "##### **Contribution**    - Individual\n",
        "##### **Member Name -** Arindam Paul\n",
        "##### **Golden Project -** Task 2"
      ]
    },
    {
      "cell_type": "markdown",
      "metadata": {
        "id": "FJNUwmbgGyua"
      },
      "source": [
        "# **Project Summary -**"
      ]
    },
    {
      "cell_type": "markdown",
      "metadata": {
        "id": "F6v_1wHtG2nS"
      },
      "source": [
        "In the competitive world of e-commerce, setting the right price for your products is crucial. Online sellers face the challenge of determining the optimal price to attract customers while ensuring profitability. The \"Price Prediction for Online Sellers\" project is a data-driven solution that combines machine learning techniques and predictive analytics to help online sellers make informed pricing decisions.\n",
        "\n",
        "**Key Objectives:**\n",
        "\n",
        "- **Price Optimization:** This project focuses on providing sellers with optimal pricing strategies to maximize revenue and profitability while staying competitive.\n",
        "- **Data-Driven Insights:** Harness historical data, product attributes, and competitor pricing to deliver actionable insights for pricing decisions.\n",
        "\n",
        "**Key Features and Tools:**\n",
        "\n",
        "- **Data Collection:** Gather, preprocess, and integrate data from various online sources, including sales records, competitor pricing, and product details.\n",
        "- **Feature Engineering:** Develop relevant features, such as product category, reviews, and seller ratings, to enhance pricing accuracy.\n",
        "- **Machine Learning Models:** Implement regression models and time series analysis to forecast optimal prices based on historical trends.\n",
        "- **Recommendation System:** Create a recommendation system for new product listings, suggesting competitive price points.\n",
        "- **Data Visualization:** Utilize data visualization techniques to present pricing insights via charts and graphs.\n",
        "- **Scalable Platform:** Build a scalable platform capable of handling extensive datasets and providing real-time price recommendations.\n",
        "\n",
        "**Benefits:**\n",
        "\n",
        "- **Maximized Profitability:** Sellers can increase profitability by leveraging historical data and market trends to set competitive prices.\n",
        "- **Competitive Advantage:** Stay ahead of the competition by offering products at attractive prices while maintaining healthy profit margins.\n",
        "- **Informed Decisions:** Gain actionable insights into customer behavior and pricing strategies to make well-informed decisions.\n",
        "\n",
        "**Usage:**\n",
        "\n",
        "- **Seller Input:** Sellers input product details, such as category, description, and desired profit margin.\n",
        "- **Data Analysis:** The system analyzes historical sales, competitor pricing, and customer reviews.\n",
        "- **Price Recommendations:** The system recommends optimal price points based on market dynamics and trends.\n",
        "- **Informed Decisions:** Sellers make data-driven pricing decisions by referring to recommendations and insights.\n",
        "\n",
        "The \"Price Prediction for Online Sellers\" project aims to revolutionize the e-commerce industry by enabling online sellers to set competitive and profitable prices. It empowers sellers with data-driven insights, helping them navigate the complex pricing landscape while maximizing profitability."
      ]
    },
    {
      "cell_type": "markdown",
      "metadata": {
        "id": "w6K7xa23Elo4"
      },
      "source": [
        "# **GitHub Link -**"
      ]
    },
    {
      "cell_type": "markdown",
      "metadata": {
        "id": "h1o69JH3Eqqn"
      },
      "source": [
        "**GitHub Link:** https://github.com/Apaulgithub/CodeClauseInternship_Price_Recommendation"
      ]
    },
    {
      "cell_type": "markdown",
      "metadata": {
        "id": "yQaldy8SH6Dl"
      },
      "source": [
        "# **Problem Statement**\n"
      ]
    },
    {
      "cell_type": "markdown",
      "metadata": {
        "id": "DpeJGUA3kjGy"
      },
      "source": [
        "Online sellers operating in e-commerce platforms face a common and significant challenge: determining the optimal price for their products. The problem arises from a complex interplay of factors, including market competition, customer demand, product attributes, and seasonality. Sellers are confronted with the challenge of setting prices that maximize their profits, yet remain competitive in a dynamic online marketplace.\n",
        "\n",
        "The \"Price Recommendation for Online Sellers\" project is designed to tackle this problem head-on. Online sellers are in need of an efficient and data-driven solution that can analyze various factors and recommend optimal price points for their products. The primary problem can be stated as follows:\n",
        "\n",
        "How can we develop an intelligent pricing recommendation system that assists online sellers in setting competitive yet profitable prices for their products in the context of the highly dynamic and competitive e-commerce environment?\n",
        "\n",
        "This problem encompasses several challenges:\n",
        "\n",
        "1. **Data Complexity:** E-commerce platforms generate vast amounts of data. Extracting relevant information and making accurate price recommendations is a complex task.\n",
        "\n",
        "2. **Real-time Decision Making:** Prices need to be adjusted frequently due to changing market conditions. A system that can make real-time recommendations is crucial.\n",
        "\n",
        "3. **Competitive Analysis:** Sellers must not only consider their costs and profit margins but also the prices of their competitors. Pricing recommendations should take this competitive aspect into account.\n",
        "\n",
        "4. **Scalability:** The system should be able to handle a wide range of products and sellers, from small businesses to large enterprises.\n",
        "\n",
        "5. **User-Friendly:** Sellers often lack advanced data analysis skills. The solution should provide easy-to-understand recommendations.\n",
        "\n",
        "In essence, the problem revolves around developing a system that leverages data and artificial intelligence to guide online sellers in making pricing decisions that boost profitability while ensuring competitiveness in the challenging e-commerce landscape."
      ]
    },
    {
      "cell_type": "markdown",
      "metadata": {
        "id": "O_i_v8NEhb9l"
      },
      "source": [
        "# ***Let's Begin !***"
      ]
    },
    {
      "cell_type": "markdown",
      "metadata": {
        "id": "HhfV-JJviCcP"
      },
      "source": [
        "## ***1. Know Your Data***"
      ]
    },
    {
      "cell_type": "markdown",
      "metadata": {
        "id": "Y3lxredqlCYt"
      },
      "source": [
        "### Import Libraries"
      ]
    },
    {
      "cell_type": "code",
      "execution_count": 47,
      "metadata": {
        "colab": {
          "base_uri": "https://localhost:8080/"
        },
        "id": "M8Vqi-pPk-HR",
        "outputId": "39e81fb6-41ad-495c-d963-cb3d39aea026"
      },
      "outputs": [
        {
          "output_type": "stream",
          "name": "stderr",
          "text": [
            "[nltk_data] Downloading package stopwords to /root/nltk_data...\n",
            "[nltk_data]   Package stopwords is already up-to-date!\n"
          ]
        }
      ],
      "source": [
        "# Import Libraries\n",
        "# Importing Numpy & Pandas for data processing & data wrangling\n",
        "import numpy as np\n",
        "import pandas as pd\n",
        "\n",
        "# Importing  tools for visualization\n",
        "import matplotlib.pyplot as plt\n",
        "import seaborn as sns\n",
        "import gc\n",
        "\n",
        "# Import functions to work with sparse matrices\n",
        "from scipy.sparse import vstack, hstack, csr_matrix\n",
        "\n",
        "# Library used for textual data preprocessing\n",
        "import string\n",
        "from string import punctuation\n",
        "import nltk\n",
        "from nltk.corpus import stopwords\n",
        "nltk.download('stopwords')\n",
        "from sklearn.feature_extraction.text import CountVectorizer\n",
        "from sklearn.feature_extraction.text import TfidfVectorizer\n",
        "from sklearn.model_selection import KFold\n",
        "\n",
        "# Import LabelBinarizer to convert labels into numerical representations\n",
        "from sklearn.preprocessing import LabelBinarizer\n",
        "\n",
        "# Import the ML models for regression tasks\n",
        "from sklearn.linear_model import LinearRegression\n",
        "from sklearn.ensemble import RandomForestRegressor\n",
        "from sklearn.linear_model import Ridge\n",
        "\n",
        "# Import time format\n",
        "import time\n",
        "\n",
        "# Library used for ignore warnings\n",
        "import warnings\n",
        "warnings.filterwarnings('ignore')\n",
        "%matplotlib inline"
      ]
    },
    {
      "cell_type": "markdown",
      "metadata": {
        "id": "3RnN4peoiCZX"
      },
      "source": [
        "### Dataset Loading"
      ]
    },
    {
      "cell_type": "code",
      "source": [
        "# Mount with Google Drive\n",
        "from google.colab import drive\n",
        "drive.mount('/content/drive')"
      ],
      "metadata": {
        "id": "8VNBI5sQ3x1P",
        "colab": {
          "base_uri": "https://localhost:8080/"
        },
        "outputId": "8ccdccfe-f4f2-47fb-a328-13867dc15604"
      },
      "execution_count": 3,
      "outputs": [
        {
          "output_type": "stream",
          "name": "stdout",
          "text": [
            "Mounted at /content/drive\n"
          ]
        }
      ]
    },
    {
      "cell_type": "code",
      "execution_count": 4,
      "metadata": {
        "id": "4CkvbW_SlZ_R"
      },
      "outputs": [],
      "source": [
        "# Load Train Dataset from github repository\n",
        "train = pd.read_csv('/content/drive/My Drive/Data Science Internships/Code Clause/Price Recommendation for Online Sellers/Project CSV File/train.tsv', sep = '\\t')"
      ]
    },
    {
      "cell_type": "code",
      "execution_count": 5,
      "metadata": {
        "id": "8lTYx2RNtnWS"
      },
      "outputs": [],
      "source": [
        "# Load Test Dataset from github repository\n",
        "test = pd.read_csv('/content/drive/My Drive/Data Science Internships/Code Clause/Price Recommendation for Online Sellers/Project CSV File/test.tsv', sep = '\\t')"
      ]
    },
    {
      "cell_type": "code",
      "source": [
        "# Create combined set.\n",
        "combined = pd.concat([train,test])\n",
        "\n",
        "# Create the submission set (Only contains the test ID)\n",
        "submission = test[['test_id']]\n",
        "\n",
        "# Create size of train\n",
        "train_size = len(train)\n",
        "\n",
        "# Create log price variable (Transformation)\n",
        "y = np.log1p(train['price'])\n",
        "\n",
        "# Selecting 10% of the combined dataset and resetting the index for the new subset.\n",
        "combined_ML = combined.sample(frac=0.1).reset_index(drop=True)"
      ],
      "metadata": {
        "id": "Jx19kXJMuNuF"
      },
      "execution_count": 6,
      "outputs": []
    },
    {
      "cell_type": "markdown",
      "metadata": {
        "id": "x71ZqKXriCWQ"
      },
      "source": [
        "### Dataset First View"
      ]
    },
    {
      "cell_type": "code",
      "execution_count": 7,
      "metadata": {
        "id": "LWNFOSvLl09H",
        "colab": {
          "base_uri": "https://localhost:8080/",
          "height": 0
        },
        "outputId": "57f97e6c-3cca-427b-dbd4-bed357990056"
      },
      "outputs": [
        {
          "output_type": "execute_result",
          "data": {
            "text/plain": [
              "    train_id                                 name  item_condition_id  \\\n",
              "0        NaN                 Toddler Air Jordan's                  3   \n",
              "1  1361842.0     Clementine and Peck plush animal                  2   \n",
              "2   874771.0                     MK Toddler Boots                  3   \n",
              "3        NaN                    Amazon fire stick                  2   \n",
              "4        NaN  Lego Friends Jungle Research Center                  2   \n",
              "\n",
              "                                  category_name    brand_name  price  \\\n",
              "0                         Kids/Boys 2T-5T/Shoes           NaN    NaN   \n",
              "1             Kids/Toys/Stuffed Animals & Plush        Disney   11.0   \n",
              "2                        Kids/Girls 2T-5T/Shoes           NaN   31.0   \n",
              "3  Electronics/TV, Audio & Surveillance/Gadgets  AmazonBasics    NaN   \n",
              "4                       Kids/Toys/Building Toys          LEGO    NaN   \n",
              "\n",
              "   shipping                                   item_description   test_id  \n",
              "0         1     Black & Gold Worn But In Good Condition Size 7  155675.0  \n",
              "1         0  NWOT Smoke free and pet free home Retails [rm]...       NaN  \n",
              "2         0  Mk girls toddler black boots Size 9 Good condi...       NaN  \n",
              "3         0  Amazon fire stick with voice remote. Missing a...  155307.0  \n",
              "4         0  Comes disassembled. All pieces present and inc...  647005.0  "
            ],
            "text/html": [
              "\n",
              "  <div id=\"df-f9aad1bc-f9d8-4b8c-b6a6-9db5549ea16b\" class=\"colab-df-container\">\n",
              "    <div>\n",
              "<style scoped>\n",
              "    .dataframe tbody tr th:only-of-type {\n",
              "        vertical-align: middle;\n",
              "    }\n",
              "\n",
              "    .dataframe tbody tr th {\n",
              "        vertical-align: top;\n",
              "    }\n",
              "\n",
              "    .dataframe thead th {\n",
              "        text-align: right;\n",
              "    }\n",
              "</style>\n",
              "<table border=\"1\" class=\"dataframe\">\n",
              "  <thead>\n",
              "    <tr style=\"text-align: right;\">\n",
              "      <th></th>\n",
              "      <th>train_id</th>\n",
              "      <th>name</th>\n",
              "      <th>item_condition_id</th>\n",
              "      <th>category_name</th>\n",
              "      <th>brand_name</th>\n",
              "      <th>price</th>\n",
              "      <th>shipping</th>\n",
              "      <th>item_description</th>\n",
              "      <th>test_id</th>\n",
              "    </tr>\n",
              "  </thead>\n",
              "  <tbody>\n",
              "    <tr>\n",
              "      <th>0</th>\n",
              "      <td>NaN</td>\n",
              "      <td>Toddler Air Jordan's</td>\n",
              "      <td>3</td>\n",
              "      <td>Kids/Boys 2T-5T/Shoes</td>\n",
              "      <td>NaN</td>\n",
              "      <td>NaN</td>\n",
              "      <td>1</td>\n",
              "      <td>Black &amp; Gold Worn But In Good Condition Size 7</td>\n",
              "      <td>155675.0</td>\n",
              "    </tr>\n",
              "    <tr>\n",
              "      <th>1</th>\n",
              "      <td>1361842.0</td>\n",
              "      <td>Clementine and Peck plush animal</td>\n",
              "      <td>2</td>\n",
              "      <td>Kids/Toys/Stuffed Animals &amp; Plush</td>\n",
              "      <td>Disney</td>\n",
              "      <td>11.0</td>\n",
              "      <td>0</td>\n",
              "      <td>NWOT Smoke free and pet free home Retails [rm]...</td>\n",
              "      <td>NaN</td>\n",
              "    </tr>\n",
              "    <tr>\n",
              "      <th>2</th>\n",
              "      <td>874771.0</td>\n",
              "      <td>MK Toddler Boots</td>\n",
              "      <td>3</td>\n",
              "      <td>Kids/Girls 2T-5T/Shoes</td>\n",
              "      <td>NaN</td>\n",
              "      <td>31.0</td>\n",
              "      <td>0</td>\n",
              "      <td>Mk girls toddler black boots Size 9 Good condi...</td>\n",
              "      <td>NaN</td>\n",
              "    </tr>\n",
              "    <tr>\n",
              "      <th>3</th>\n",
              "      <td>NaN</td>\n",
              "      <td>Amazon fire stick</td>\n",
              "      <td>2</td>\n",
              "      <td>Electronics/TV, Audio &amp; Surveillance/Gadgets</td>\n",
              "      <td>AmazonBasics</td>\n",
              "      <td>NaN</td>\n",
              "      <td>0</td>\n",
              "      <td>Amazon fire stick with voice remote. Missing a...</td>\n",
              "      <td>155307.0</td>\n",
              "    </tr>\n",
              "    <tr>\n",
              "      <th>4</th>\n",
              "      <td>NaN</td>\n",
              "      <td>Lego Friends Jungle Research Center</td>\n",
              "      <td>2</td>\n",
              "      <td>Kids/Toys/Building Toys</td>\n",
              "      <td>LEGO</td>\n",
              "      <td>NaN</td>\n",
              "      <td>0</td>\n",
              "      <td>Comes disassembled. All pieces present and inc...</td>\n",
              "      <td>647005.0</td>\n",
              "    </tr>\n",
              "  </tbody>\n",
              "</table>\n",
              "</div>\n",
              "    <div class=\"colab-df-buttons\">\n",
              "\n",
              "  <div class=\"colab-df-container\">\n",
              "    <button class=\"colab-df-convert\" onclick=\"convertToInteractive('df-f9aad1bc-f9d8-4b8c-b6a6-9db5549ea16b')\"\n",
              "            title=\"Convert this dataframe to an interactive table.\"\n",
              "            style=\"display:none;\">\n",
              "\n",
              "  <svg xmlns=\"http://www.w3.org/2000/svg\" height=\"24px\" viewBox=\"0 -960 960 960\">\n",
              "    <path d=\"M120-120v-720h720v720H120Zm60-500h600v-160H180v160Zm220 220h160v-160H400v160Zm0 220h160v-160H400v160ZM180-400h160v-160H180v160Zm440 0h160v-160H620v160ZM180-180h160v-160H180v160Zm440 0h160v-160H620v160Z\"/>\n",
              "  </svg>\n",
              "    </button>\n",
              "\n",
              "  <style>\n",
              "    .colab-df-container {\n",
              "      display:flex;\n",
              "      gap: 12px;\n",
              "    }\n",
              "\n",
              "    .colab-df-convert {\n",
              "      background-color: #E8F0FE;\n",
              "      border: none;\n",
              "      border-radius: 50%;\n",
              "      cursor: pointer;\n",
              "      display: none;\n",
              "      fill: #1967D2;\n",
              "      height: 32px;\n",
              "      padding: 0 0 0 0;\n",
              "      width: 32px;\n",
              "    }\n",
              "\n",
              "    .colab-df-convert:hover {\n",
              "      background-color: #E2EBFA;\n",
              "      box-shadow: 0px 1px 2px rgba(60, 64, 67, 0.3), 0px 1px 3px 1px rgba(60, 64, 67, 0.15);\n",
              "      fill: #174EA6;\n",
              "    }\n",
              "\n",
              "    .colab-df-buttons div {\n",
              "      margin-bottom: 4px;\n",
              "    }\n",
              "\n",
              "    [theme=dark] .colab-df-convert {\n",
              "      background-color: #3B4455;\n",
              "      fill: #D2E3FC;\n",
              "    }\n",
              "\n",
              "    [theme=dark] .colab-df-convert:hover {\n",
              "      background-color: #434B5C;\n",
              "      box-shadow: 0px 1px 3px 1px rgba(0, 0, 0, 0.15);\n",
              "      filter: drop-shadow(0px 1px 2px rgba(0, 0, 0, 0.3));\n",
              "      fill: #FFFFFF;\n",
              "    }\n",
              "  </style>\n",
              "\n",
              "    <script>\n",
              "      const buttonEl =\n",
              "        document.querySelector('#df-f9aad1bc-f9d8-4b8c-b6a6-9db5549ea16b button.colab-df-convert');\n",
              "      buttonEl.style.display =\n",
              "        google.colab.kernel.accessAllowed ? 'block' : 'none';\n",
              "\n",
              "      async function convertToInteractive(key) {\n",
              "        const element = document.querySelector('#df-f9aad1bc-f9d8-4b8c-b6a6-9db5549ea16b');\n",
              "        const dataTable =\n",
              "          await google.colab.kernel.invokeFunction('convertToInteractive',\n",
              "                                                    [key], {});\n",
              "        if (!dataTable) return;\n",
              "\n",
              "        const docLinkHtml = 'Like what you see? Visit the ' +\n",
              "          '<a target=\"_blank\" href=https://colab.research.google.com/notebooks/data_table.ipynb>data table notebook</a>'\n",
              "          + ' to learn more about interactive tables.';\n",
              "        element.innerHTML = '';\n",
              "        dataTable['output_type'] = 'display_data';\n",
              "        await google.colab.output.renderOutput(dataTable, element);\n",
              "        const docLink = document.createElement('div');\n",
              "        docLink.innerHTML = docLinkHtml;\n",
              "        element.appendChild(docLink);\n",
              "      }\n",
              "    </script>\n",
              "  </div>\n",
              "\n",
              "\n",
              "<div id=\"df-5ede89a3-2d86-418a-ac1b-cd3acfa7e8ed\">\n",
              "  <button class=\"colab-df-quickchart\" onclick=\"quickchart('df-5ede89a3-2d86-418a-ac1b-cd3acfa7e8ed')\"\n",
              "            title=\"Suggest charts.\"\n",
              "            style=\"display:none;\">\n",
              "\n",
              "<svg xmlns=\"http://www.w3.org/2000/svg\" height=\"24px\"viewBox=\"0 0 24 24\"\n",
              "     width=\"24px\">\n",
              "    <g>\n",
              "        <path d=\"M19 3H5c-1.1 0-2 .9-2 2v14c0 1.1.9 2 2 2h14c1.1 0 2-.9 2-2V5c0-1.1-.9-2-2-2zM9 17H7v-7h2v7zm4 0h-2V7h2v10zm4 0h-2v-4h2v4z\"/>\n",
              "    </g>\n",
              "</svg>\n",
              "  </button>\n",
              "\n",
              "<style>\n",
              "  .colab-df-quickchart {\n",
              "      --bg-color: #E8F0FE;\n",
              "      --fill-color: #1967D2;\n",
              "      --hover-bg-color: #E2EBFA;\n",
              "      --hover-fill-color: #174EA6;\n",
              "      --disabled-fill-color: #AAA;\n",
              "      --disabled-bg-color: #DDD;\n",
              "  }\n",
              "\n",
              "  [theme=dark] .colab-df-quickchart {\n",
              "      --bg-color: #3B4455;\n",
              "      --fill-color: #D2E3FC;\n",
              "      --hover-bg-color: #434B5C;\n",
              "      --hover-fill-color: #FFFFFF;\n",
              "      --disabled-bg-color: #3B4455;\n",
              "      --disabled-fill-color: #666;\n",
              "  }\n",
              "\n",
              "  .colab-df-quickchart {\n",
              "    background-color: var(--bg-color);\n",
              "    border: none;\n",
              "    border-radius: 50%;\n",
              "    cursor: pointer;\n",
              "    display: none;\n",
              "    fill: var(--fill-color);\n",
              "    height: 32px;\n",
              "    padding: 0;\n",
              "    width: 32px;\n",
              "  }\n",
              "\n",
              "  .colab-df-quickchart:hover {\n",
              "    background-color: var(--hover-bg-color);\n",
              "    box-shadow: 0 1px 2px rgba(60, 64, 67, 0.3), 0 1px 3px 1px rgba(60, 64, 67, 0.15);\n",
              "    fill: var(--button-hover-fill-color);\n",
              "  }\n",
              "\n",
              "  .colab-df-quickchart-complete:disabled,\n",
              "  .colab-df-quickchart-complete:disabled:hover {\n",
              "    background-color: var(--disabled-bg-color);\n",
              "    fill: var(--disabled-fill-color);\n",
              "    box-shadow: none;\n",
              "  }\n",
              "\n",
              "  .colab-df-spinner {\n",
              "    border: 2px solid var(--fill-color);\n",
              "    border-color: transparent;\n",
              "    border-bottom-color: var(--fill-color);\n",
              "    animation:\n",
              "      spin 1s steps(1) infinite;\n",
              "  }\n",
              "\n",
              "  @keyframes spin {\n",
              "    0% {\n",
              "      border-color: transparent;\n",
              "      border-bottom-color: var(--fill-color);\n",
              "      border-left-color: var(--fill-color);\n",
              "    }\n",
              "    20% {\n",
              "      border-color: transparent;\n",
              "      border-left-color: var(--fill-color);\n",
              "      border-top-color: var(--fill-color);\n",
              "    }\n",
              "    30% {\n",
              "      border-color: transparent;\n",
              "      border-left-color: var(--fill-color);\n",
              "      border-top-color: var(--fill-color);\n",
              "      border-right-color: var(--fill-color);\n",
              "    }\n",
              "    40% {\n",
              "      border-color: transparent;\n",
              "      border-right-color: var(--fill-color);\n",
              "      border-top-color: var(--fill-color);\n",
              "    }\n",
              "    60% {\n",
              "      border-color: transparent;\n",
              "      border-right-color: var(--fill-color);\n",
              "    }\n",
              "    80% {\n",
              "      border-color: transparent;\n",
              "      border-right-color: var(--fill-color);\n",
              "      border-bottom-color: var(--fill-color);\n",
              "    }\n",
              "    90% {\n",
              "      border-color: transparent;\n",
              "      border-bottom-color: var(--fill-color);\n",
              "    }\n",
              "  }\n",
              "</style>\n",
              "\n",
              "  <script>\n",
              "    async function quickchart(key) {\n",
              "      const quickchartButtonEl =\n",
              "        document.querySelector('#' + key + ' button');\n",
              "      quickchartButtonEl.disabled = true;  // To prevent multiple clicks.\n",
              "      quickchartButtonEl.classList.add('colab-df-spinner');\n",
              "      try {\n",
              "        const charts = await google.colab.kernel.invokeFunction(\n",
              "            'suggestCharts', [key], {});\n",
              "      } catch (error) {\n",
              "        console.error('Error during call to suggestCharts:', error);\n",
              "      }\n",
              "      quickchartButtonEl.classList.remove('colab-df-spinner');\n",
              "      quickchartButtonEl.classList.add('colab-df-quickchart-complete');\n",
              "    }\n",
              "    (() => {\n",
              "      let quickchartButtonEl =\n",
              "        document.querySelector('#df-5ede89a3-2d86-418a-ac1b-cd3acfa7e8ed button');\n",
              "      quickchartButtonEl.style.display =\n",
              "        google.colab.kernel.accessAllowed ? 'block' : 'none';\n",
              "    })();\n",
              "  </script>\n",
              "</div>\n",
              "    </div>\n",
              "  </div>\n"
            ]
          },
          "metadata": {},
          "execution_count": 7
        }
      ],
      "source": [
        "# Dataset First Look\n",
        "# View top 5 rows of the dataset\n",
        "combined_ML.head()"
      ]
    },
    {
      "cell_type": "markdown",
      "metadata": {
        "id": "7hBIi_osiCS2"
      },
      "source": [
        "### Dataset Rows & Columns count"
      ]
    },
    {
      "cell_type": "code",
      "execution_count": 8,
      "metadata": {
        "id": "Kllu7SJgmLij",
        "colab": {
          "base_uri": "https://localhost:8080/"
        },
        "outputId": "38d02b4e-7427-4c40-ae8f-42bf9c90e1a8"
      },
      "outputs": [
        {
          "output_type": "stream",
          "name": "stdout",
          "text": [
            "Number of rows are:  217589\n",
            "Number of columns are:  9\n"
          ]
        }
      ],
      "source": [
        "# Dataset Rows & Columns count\n",
        "# Checking number of rows and columns of the dataset using shape\n",
        "print(\"Number of rows are: \",combined_ML.shape[0])\n",
        "print(\"Number of columns are: \",combined_ML.shape[1])"
      ]
    },
    {
      "cell_type": "markdown",
      "metadata": {
        "id": "JlHwYmJAmNHm"
      },
      "source": [
        "### Dataset Information"
      ]
    },
    {
      "cell_type": "code",
      "execution_count": 9,
      "metadata": {
        "id": "e9hRXRi6meOf",
        "colab": {
          "base_uri": "https://localhost:8080/"
        },
        "outputId": "20c53afb-67bb-4876-dd54-b0ab9331e096"
      },
      "outputs": [
        {
          "output_type": "stream",
          "name": "stdout",
          "text": [
            "<class 'pandas.core.frame.DataFrame'>\n",
            "RangeIndex: 217589 entries, 0 to 217588\n",
            "Data columns (total 9 columns):\n",
            " #   Column             Non-Null Count   Dtype  \n",
            "---  ------             --------------   -----  \n",
            " 0   train_id           148127 non-null  float64\n",
            " 1   name               217589 non-null  object \n",
            " 2   item_condition_id  217589 non-null  int64  \n",
            " 3   category_name      216675 non-null  object \n",
            " 4   brand_name         124765 non-null  object \n",
            " 5   price              148127 non-null  float64\n",
            " 6   shipping           217589 non-null  int64  \n",
            " 7   item_description   217588 non-null  object \n",
            " 8   test_id            69462 non-null   float64\n",
            "dtypes: float64(3), int64(2), object(4)\n",
            "memory usage: 14.9+ MB\n"
          ]
        }
      ],
      "source": [
        "# Dataset Info\n",
        "# Checking information about the dataset using info\n",
        "combined_ML.info()"
      ]
    },
    {
      "cell_type": "markdown",
      "metadata": {
        "id": "35m5QtbWiB9F"
      },
      "source": [
        "#### Duplicate Values"
      ]
    },
    {
      "cell_type": "code",
      "execution_count": 10,
      "metadata": {
        "id": "1sLdpKYkmox0",
        "colab": {
          "base_uri": "https://localhost:8080/"
        },
        "outputId": "4e8f0b05-0cbc-4083-d675-b93c11c283d1"
      },
      "outputs": [
        {
          "output_type": "stream",
          "name": "stdout",
          "text": [
            "number of duplicated rows are 0\n"
          ]
        }
      ],
      "source": [
        "# Dataset Duplicate Value Count\n",
        "dup = combined_ML.duplicated().sum()\n",
        "print(f'number of duplicated rows are {dup}')"
      ]
    },
    {
      "cell_type": "markdown",
      "metadata": {
        "id": "PoPl-ycgm1ru"
      },
      "source": [
        "#### Missing Values/Null Values"
      ]
    },
    {
      "cell_type": "code",
      "execution_count": 11,
      "metadata": {
        "id": "GgHWkxvamxVg",
        "colab": {
          "base_uri": "https://localhost:8080/"
        },
        "outputId": "08c1b8d0-4b4b-430e-d02a-cd331c537348"
      },
      "outputs": [
        {
          "output_type": "execute_result",
          "data": {
            "text/plain": [
              "train_id              69462\n",
              "name                      0\n",
              "item_condition_id         0\n",
              "category_name           914\n",
              "brand_name            92824\n",
              "price                 69462\n",
              "shipping                  0\n",
              "item_description          1\n",
              "test_id              148127\n",
              "dtype: int64"
            ]
          },
          "metadata": {},
          "execution_count": 11
        }
      ],
      "source": [
        "# Missing Values/Null Values Count\n",
        "combined_ML.isnull().sum()"
      ]
    },
    {
      "cell_type": "code",
      "execution_count": 12,
      "metadata": {
        "id": "3q5wnI3om9sJ",
        "colab": {
          "base_uri": "https://localhost:8080/",
          "height": 0
        },
        "outputId": "47ee0ef6-a23b-42ee-fa66-33ccee2019b3"
      },
      "outputs": [
        {
          "output_type": "display_data",
          "data": {
            "text/plain": [
              "<Figure size 1000x600 with 2 Axes>"
            ],
            "image/png": "[encoded data removed]"
          },
          "metadata": {}
        }
      ],
      "source": [
        "# Visualizing the missing values\n",
        "# Set the plot size\n",
        "plt.figure(figsize = (10,6))\n",
        "\n",
        "# Create the figure object\n",
        "sns.heatmap(combined_ML.isnull().corr(), vmin=-1, annot= True)\n",
        "\n",
        "# Set labels\n",
        "plt.xlabel('Name of columns', fontsize=12)\n",
        "plt.ylabel('Name of columns', fontsize=10)\n",
        "plt.title('Places of missing values in Dataset', fontsize=15)\n",
        "\n",
        "# To show\n",
        "plt.show()\n"
      ]
    },
    {
      "cell_type": "markdown",
      "metadata": {
        "id": "H0kj-8xxnORC"
      },
      "source": [
        "### What did you know about your dataset?"
      ]
    },
    {
      "cell_type": "markdown",
      "metadata": {
        "id": "gfoNAAC-nUe_"
      },
      "source": [
        "* The dataset consists of product name, category, brand name, price etc. of different online products available in the dataset.\n",
        "* There are 217589 rows and 9 columns provided in the data.\n",
        "* Null values are present in train_id, test_id, price, brand_name, category_name, and item_description; Since there are only few null values present in item_description i will remove them from the data.\n",
        "* No duplicate values exist."
      ]
    },
    {
      "cell_type": "markdown",
      "metadata": {
        "id": "nA9Y7ga8ng1Z"
      },
      "source": [
        "## ***2. Understanding Your Variables***"
      ]
    },
    {
      "cell_type": "code",
      "execution_count": 13,
      "metadata": {
        "id": "j7xfkqrt5Ag5",
        "colab": {
          "base_uri": "https://localhost:8080/"
        },
        "outputId": "52f157eb-2059-4ed3-e000-a6d2ed7c5b1a"
      },
      "outputs": [
        {
          "output_type": "execute_result",
          "data": {
            "text/plain": [
              "Index(['train_id', 'name', 'item_condition_id', 'category_name', 'brand_name',\n",
              "       'price', 'shipping', 'item_description', 'test_id'],\n",
              "      dtype='object')"
            ]
          },
          "metadata": {},
          "execution_count": 13
        }
      ],
      "source": [
        "# Dataset Columns\n",
        "combined_ML.columns"
      ]
    },
    {
      "cell_type": "code",
      "execution_count": 14,
      "metadata": {
        "id": "DnOaZdaE5Q5t",
        "colab": {
          "base_uri": "https://localhost:8080/",
          "height": 0
        },
        "outputId": "f9920b02-01e1-4de9-a6db-e1b132a12264"
      },
      "outputs": [
        {
          "output_type": "execute_result",
          "data": {
            "text/plain": [
              "          train_id    name  item_condition_id  \\\n",
              "count    148127.00  217589           217589.0   \n",
              "unique         NaN  199230                NaN   \n",
              "top            NaN  Bundle                NaN   \n",
              "freq           NaN     353                NaN   \n",
              "mean     741655.69     NaN                1.9   \n",
              "std      427983.87     NaN                0.9   \n",
              "min           0.00     NaN                1.0   \n",
              "25%      371496.50     NaN                1.0   \n",
              "50%      742358.00     NaN                2.0   \n",
              "75%     1112001.50     NaN                3.0   \n",
              "max     1482526.00     NaN                5.0   \n",
              "\n",
              "                                         category_name brand_name      price  \\\n",
              "count                                           216675     124765  148127.00   \n",
              "unique                                            1081       2694        NaN   \n",
              "top     Women/Athletic Apparel/Pants, Tights, Leggings       PINK        NaN   \n",
              "freq                                              8705       8096        NaN   \n",
              "mean                                               NaN        NaN      26.77   \n",
              "std                                                NaN        NaN      38.50   \n",
              "min                                                NaN        NaN       0.00   \n",
              "25%                                                NaN        NaN      10.00   \n",
              "50%                                                NaN        NaN      17.00   \n",
              "75%                                                NaN        NaN      29.00   \n",
              "max                                                NaN        NaN    1850.00   \n",
              "\n",
              "         shipping    item_description    test_id  \n",
              "count   217589.00              217588   69462.00  \n",
              "unique        NaN              195322        NaN  \n",
              "top           NaN  No description yet        NaN  \n",
              "freq          NaN               12085        NaN  \n",
              "mean         0.45                 NaN  345134.20  \n",
              "std          0.50                 NaN  199324.01  \n",
              "min          0.00                 NaN       7.00  \n",
              "25%          0.00                 NaN  173296.75  \n",
              "50%          0.00                 NaN  344088.00  \n",
              "75%          1.00                 NaN  517529.75  \n",
              "max          1.00                 NaN  693355.00  "
            ],
            "text/html": [
              "\n",
              "  <div id=\"df-f01b1016-1a9d-455c-af56-a1183c1f4e03\" class=\"colab-df-container\">\n",
              "    <div>\n",
              "<style scoped>\n",
              "    .dataframe tbody tr th:only-of-type {\n",
              "        vertical-align: middle;\n",
              "    }\n",
              "\n",
              "    .dataframe tbody tr th {\n",
              "        vertical-align: top;\n",
              "    }\n",
              "\n",
              "    .dataframe thead th {\n",
              "        text-align: right;\n",
              "    }\n",
              "</style>\n",
              "<table border=\"1\" class=\"dataframe\">\n",
              "  <thead>\n",
              "    <tr style=\"text-align: right;\">\n",
              "      <th></th>\n",
              "      <th>train_id</th>\n",
              "      <th>name</th>\n",
              "      <th>item_condition_id</th>\n",
              "      <th>category_name</th>\n",
              "      <th>brand_name</th>\n",
              "      <th>price</th>\n",
              "      <th>shipping</th>\n",
              "      <th>item_description</th>\n",
              "      <th>test_id</th>\n",
              "    </tr>\n",
              "  </thead>\n",
              "  <tbody>\n",
              "    <tr>\n",
              "      <th>count</th>\n",
              "      <td>148127.00</td>\n",
              "      <td>217589</td>\n",
              "      <td>217589.0</td>\n",
              "      <td>216675</td>\n",
              "      <td>124765</td>\n",
              "      <td>148127.00</td>\n",
              "      <td>217589.00</td>\n",
              "      <td>217588</td>\n",
              "      <td>69462.00</td>\n",
              "    </tr>\n",
              "    <tr>\n",
              "      <th>unique</th>\n",
              "      <td>NaN</td>\n",
              "      <td>199230</td>\n",
              "      <td>NaN</td>\n",
              "      <td>1081</td>\n",
              "      <td>2694</td>\n",
              "      <td>NaN</td>\n",
              "      <td>NaN</td>\n",
              "      <td>195322</td>\n",
              "      <td>NaN</td>\n",
              "    </tr>\n",
              "    <tr>\n",
              "      <th>top</th>\n",
              "      <td>NaN</td>\n",
              "      <td>Bundle</td>\n",
              "      <td>NaN</td>\n",
              "      <td>Women/Athletic Apparel/Pants, Tights, Leggings</td>\n",
              "      <td>PINK</td>\n",
              "      <td>NaN</td>\n",
              "      <td>NaN</td>\n",
              "      <td>No description yet</td>\n",
              "      <td>NaN</td>\n",
              "    </tr>\n",
              "    <tr>\n",
              "      <th>freq</th>\n",
              "      <td>NaN</td>\n",
              "      <td>353</td>\n",
              "      <td>NaN</td>\n",
              "      <td>8705</td>\n",
              "      <td>8096</td>\n",
              "      <td>NaN</td>\n",
              "      <td>NaN</td>\n",
              "      <td>12085</td>\n",
              "      <td>NaN</td>\n",
              "    </tr>\n",
              "    <tr>\n",
              "      <th>mean</th>\n",
              "      <td>741655.69</td>\n",
              "      <td>NaN</td>\n",
              "      <td>1.9</td>\n",
              "      <td>NaN</td>\n",
              "      <td>NaN</td>\n",
              "      <td>26.77</td>\n",
              "      <td>0.45</td>\n",
              "      <td>NaN</td>\n",
              "      <td>345134.20</td>\n",
              "    </tr>\n",
              "    <tr>\n",
              "      <th>std</th>\n",
              "      <td>427983.87</td>\n",
              "      <td>NaN</td>\n",
              "      <td>0.9</td>\n",
              "      <td>NaN</td>\n",
              "      <td>NaN</td>\n",
              "      <td>38.50</td>\n",
              "      <td>0.50</td>\n",
              "      <td>NaN</td>\n",
              "      <td>199324.01</td>\n",
              "    </tr>\n",
              "    <tr>\n",
              "      <th>min</th>\n",
              "      <td>0.00</td>\n",
              "      <td>NaN</td>\n",
              "      <td>1.0</td>\n",
              "      <td>NaN</td>\n",
              "      <td>NaN</td>\n",
              "      <td>0.00</td>\n",
              "      <td>0.00</td>\n",
              "      <td>NaN</td>\n",
              "      <td>7.00</td>\n",
              "    </tr>\n",
              "    <tr>\n",
              "      <th>25%</th>\n",
              "      <td>371496.50</td>\n",
              "      <td>NaN</td>\n",
              "      <td>1.0</td>\n",
              "      <td>NaN</td>\n",
              "      <td>NaN</td>\n",
              "      <td>10.00</td>\n",
              "      <td>0.00</td>\n",
              "      <td>NaN</td>\n",
              "      <td>173296.75</td>\n",
              "    </tr>\n",
              "    <tr>\n",
              "      <th>50%</th>\n",
              "      <td>742358.00</td>\n",
              "      <td>NaN</td>\n",
              "      <td>2.0</td>\n",
              "      <td>NaN</td>\n",
              "      <td>NaN</td>\n",
              "      <td>17.00</td>\n",
              "      <td>0.00</td>\n",
              "      <td>NaN</td>\n",
              "      <td>344088.00</td>\n",
              "    </tr>\n",
              "    <tr>\n",
              "      <th>75%</th>\n",
              "      <td>1112001.50</td>\n",
              "      <td>NaN</td>\n",
              "      <td>3.0</td>\n",
              "      <td>NaN</td>\n",
              "      <td>NaN</td>\n",
              "      <td>29.00</td>\n",
              "      <td>1.00</td>\n",
              "      <td>NaN</td>\n",
              "      <td>517529.75</td>\n",
              "    </tr>\n",
              "    <tr>\n",
              "      <th>max</th>\n",
              "      <td>1482526.00</td>\n",
              "      <td>NaN</td>\n",
              "      <td>5.0</td>\n",
              "      <td>NaN</td>\n",
              "      <td>NaN</td>\n",
              "      <td>1850.00</td>\n",
              "      <td>1.00</td>\n",
              "      <td>NaN</td>\n",
              "      <td>693355.00</td>\n",
              "    </tr>\n",
              "  </tbody>\n",
              "</table>\n",
              "</div>\n",
              "    <div class=\"colab-df-buttons\">\n",
              "\n",
              "  <div class=\"colab-df-container\">\n",
              "    <button class=\"colab-df-convert\" onclick=\"convertToInteractive('df-f01b1016-1a9d-455c-af56-a1183c1f4e03')\"\n",
              "            title=\"Convert this dataframe to an interactive table.\"\n",
              "            style=\"display:none;\">\n",
              "\n",
              "  <svg xmlns=\"http://www.w3.org/2000/svg\" height=\"24px\" viewBox=\"0 -960 960 960\">\n",
              "    <path d=\"M120-120v-720h720v720H120Zm60-500h600v-160H180v160Zm220 220h160v-160H400v160Zm0 220h160v-160H400v160ZM180-400h160v-160H180v160Zm440 0h160v-160H620v160ZM180-180h160v-160H180v160Zm440 0h160v-160H620v160Z\"/>\n",
              "  </svg>\n",
              "    </button>\n",
              "\n",
              "  <style>\n",
              "    .colab-df-container {\n",
              "      display:flex;\n",
              "      gap: 12px;\n",
              "    }\n",
              "\n",
              "    .colab-df-convert {\n",
              "      background-color: #E8F0FE;\n",
              "      border: none;\n",
              "      border-radius: 50%;\n",
              "      cursor: pointer;\n",
              "      display: none;\n",
              "      fill: #1967D2;\n",
              "      height: 32px;\n",
              "      padding: 0 0 0 0;\n",
              "      width: 32px;\n",
              "    }\n",
              "\n",
              "    .colab-df-convert:hover {\n",
              "      background-color: #E2EBFA;\n",
              "      box-shadow: 0px 1px 2px rgba(60, 64, 67, 0.3), 0px 1px 3px 1px rgba(60, 64, 67, 0.15);\n",
              "      fill: #174EA6;\n",
              "    }\n",
              "\n",
              "    .colab-df-buttons div {\n",
              "      margin-bottom: 4px;\n",
              "    }\n",
              "\n",
              "    [theme=dark] .colab-df-convert {\n",
              "      background-color: #3B4455;\n",
              "      fill: #D2E3FC;\n",
              "    }\n",
              "\n",
              "    [theme=dark] .colab-df-convert:hover {\n",
              "      background-color: #434B5C;\n",
              "      box-shadow: 0px 1px 3px 1px rgba(0, 0, 0, 0.15);\n",
              "      filter: drop-shadow(0px 1px 2px rgba(0, 0, 0, 0.3));\n",
              "      fill: #FFFFFF;\n",
              "    }\n",
              "  </style>\n",
              "\n",
              "    <script>\n",
              "      const buttonEl =\n",
              "        document.querySelector('#df-f01b1016-1a9d-455c-af56-a1183c1f4e03 button.colab-df-convert');\n",
              "      buttonEl.style.display =\n",
              "        google.colab.kernel.accessAllowed ? 'block' : 'none';\n",
              "\n",
              "      async function convertToInteractive(key) {\n",
              "        const element = document.querySelector('#df-f01b1016-1a9d-455c-af56-a1183c1f4e03');\n",
              "        const dataTable =\n",
              "          await google.colab.kernel.invokeFunction('convertToInteractive',\n",
              "                                                    [key], {});\n",
              "        if (!dataTable) return;\n",
              "\n",
              "        const docLinkHtml = 'Like what you see? Visit the ' +\n",
              "          '<a target=\"_blank\" href=https://colab.research.google.com/notebooks/data_table.ipynb>data table notebook</a>'\n",
              "          + ' to learn more about interactive tables.';\n",
              "        element.innerHTML = '';\n",
              "        dataTable['output_type'] = 'display_data';\n",
              "        await google.colab.output.renderOutput(dataTable, element);\n",
              "        const docLink = document.createElement('div');\n",
              "        docLink.innerHTML = docLinkHtml;\n",
              "        element.appendChild(docLink);\n",
              "      }\n",
              "    </script>\n",
              "  </div>\n",
              "\n",
              "\n",
              "<div id=\"df-586776ce-5fda-4e3d-b265-cbbff3503a7e\">\n",
              "  <button class=\"colab-df-quickchart\" onclick=\"quickchart('df-586776ce-5fda-4e3d-b265-cbbff3503a7e')\"\n",
              "            title=\"Suggest charts.\"\n",
              "            style=\"display:none;\">\n",
              "\n",
              "<svg xmlns=\"http://www.w3.org/2000/svg\" height=\"24px\"viewBox=\"0 0 24 24\"\n",
              "     width=\"24px\">\n",
              "    <g>\n",
              "        <path d=\"M19 3H5c-1.1 0-2 .9-2 2v14c0 1.1.9 2 2 2h14c1.1 0 2-.9 2-2V5c0-1.1-.9-2-2-2zM9 17H7v-7h2v7zm4 0h-2V7h2v10zm4 0h-2v-4h2v4z\"/>\n",
              "    </g>\n",
              "</svg>\n",
              "  </button>\n",
              "\n",
              "<style>\n",
              "  .colab-df-quickchart {\n",
              "      --bg-color: #E8F0FE;\n",
              "      --fill-color: #1967D2;\n",
              "      --hover-bg-color: #E2EBFA;\n",
              "      --hover-fill-color: #174EA6;\n",
              "      --disabled-fill-color: #AAA;\n",
              "      --disabled-bg-color: #DDD;\n",
              "  }\n",
              "\n",
              "  [theme=dark] .colab-df-quickchart {\n",
              "      --bg-color: #3B4455;\n",
              "      --fill-color: #D2E3FC;\n",
              "      --hover-bg-color: #434B5C;\n",
              "      --hover-fill-color: #FFFFFF;\n",
              "      --disabled-bg-color: #3B4455;\n",
              "      --disabled-fill-color: #666;\n",
              "  }\n",
              "\n",
              "  .colab-df-quickchart {\n",
              "    background-color: var(--bg-color);\n",
              "    border: none;\n",
              "    border-radius: 50%;\n",
              "    cursor: pointer;\n",
              "    display: none;\n",
              "    fill: var(--fill-color);\n",
              "    height: 32px;\n",
              "    padding: 0;\n",
              "    width: 32px;\n",
              "  }\n",
              "\n",
              "  .colab-df-quickchart:hover {\n",
              "    background-color: var(--hover-bg-color);\n",
              "    box-shadow: 0 1px 2px rgba(60, 64, 67, 0.3), 0 1px 3px 1px rgba(60, 64, 67, 0.15);\n",
              "    fill: var(--button-hover-fill-color);\n",
              "  }\n",
              "\n",
              "  .colab-df-quickchart-complete:disabled,\n",
              "  .colab-df-quickchart-complete:disabled:hover {\n",
              "    background-color: var(--disabled-bg-color);\n",
              "    fill: var(--disabled-fill-color);\n",
              "    box-shadow: none;\n",
              "  }\n",
              "\n",
              "  .colab-df-spinner {\n",
              "    border: 2px solid var(--fill-color);\n",
              "    border-color: transparent;\n",
              "    border-bottom-color: var(--fill-color);\n",
              "    animation:\n",
              "      spin 1s steps(1) infinite;\n",
              "  }\n",
              "\n",
              "  @keyframes spin {\n",
              "    0% {\n",
              "      border-color: transparent;\n",
              "      border-bottom-color: var(--fill-color);\n",
              "      border-left-color: var(--fill-color);\n",
              "    }\n",
              "    20% {\n",
              "      border-color: transparent;\n",
              "      border-left-color: var(--fill-color);\n",
              "      border-top-color: var(--fill-color);\n",
              "    }\n",
              "    30% {\n",
              "      border-color: transparent;\n",
              "      border-left-color: var(--fill-color);\n",
              "      border-top-color: var(--fill-color);\n",
              "      border-right-color: var(--fill-color);\n",
              "    }\n",
              "    40% {\n",
              "      border-color: transparent;\n",
              "      border-right-color: var(--fill-color);\n",
              "      border-top-color: var(--fill-color);\n",
              "    }\n",
              "    60% {\n",
              "      border-color: transparent;\n",
              "      border-right-color: var(--fill-color);\n",
              "    }\n",
              "    80% {\n",
              "      border-color: transparent;\n",
              "      border-right-color: var(--fill-color);\n",
              "      border-bottom-color: var(--fill-color);\n",
              "    }\n",
              "    90% {\n",
              "      border-color: transparent;\n",
              "      border-bottom-color: var(--fill-color);\n",
              "    }\n",
              "  }\n",
              "</style>\n",
              "\n",
              "  <script>\n",
              "    async function quickchart(key) {\n",
              "      const quickchartButtonEl =\n",
              "        document.querySelector('#' + key + ' button');\n",
              "      quickchartButtonEl.disabled = true;  // To prevent multiple clicks.\n",
              "      quickchartButtonEl.classList.add('colab-df-spinner');\n",
              "      try {\n",
              "        const charts = await google.colab.kernel.invokeFunction(\n",
              "            'suggestCharts', [key], {});\n",
              "      } catch (error) {\n",
              "        console.error('Error during call to suggestCharts:', error);\n",
              "      }\n",
              "      quickchartButtonEl.classList.remove('colab-df-spinner');\n",
              "      quickchartButtonEl.classList.add('colab-df-quickchart-complete');\n",
              "    }\n",
              "    (() => {\n",
              "      let quickchartButtonEl =\n",
              "        document.querySelector('#df-586776ce-5fda-4e3d-b265-cbbff3503a7e button');\n",
              "      quickchartButtonEl.style.display =\n",
              "        google.colab.kernel.accessAllowed ? 'block' : 'none';\n",
              "    })();\n",
              "  </script>\n",
              "</div>\n",
              "    </div>\n",
              "  </div>\n"
            ]
          },
          "metadata": {},
          "execution_count": 14
        }
      ],
      "source": [
        "# Dataset Describe (all columns included)\n",
        "combined_ML.describe(include= 'all').round(2)"
      ]
    },
    {
      "cell_type": "code",
      "source": [
        "# Train set describe (price column)\n",
        "train.price.describe()"
      ],
      "metadata": {
        "colab": {
          "base_uri": "https://localhost:8080/"
        },
        "id": "uisiRFctQdYK",
        "outputId": "0f028039-19f1-46b9-ade2-654158af508d"
      },
      "execution_count": 15,
      "outputs": [
        {
          "output_type": "execute_result",
          "data": {
            "text/plain": [
              "count    1.482535e+06\n",
              "mean     2.673752e+01\n",
              "std      3.858607e+01\n",
              "min      0.000000e+00\n",
              "25%      1.000000e+01\n",
              "50%      1.700000e+01\n",
              "75%      2.900000e+01\n",
              "max      2.009000e+03\n",
              "Name: price, dtype: float64"
            ]
          },
          "metadata": {},
          "execution_count": 15
        }
      ]
    },
    {
      "cell_type": "markdown",
      "metadata": {
        "id": "PBTbrJXOngz2"
      },
      "source": [
        "### Variables Description"
      ]
    },
    {
      "cell_type": "markdown",
      "metadata": {
        "id": "u3PMJOP6ngxN"
      },
      "source": [
        "### Check Unique Values for each variable."
      ]
    },
    {
      "cell_type": "code",
      "execution_count": 16,
      "metadata": {
        "id": "zms12Yq5n-jE",
        "colab": {
          "base_uri": "https://localhost:8080/"
        },
        "outputId": "7cbb699b-bbc6-4c47-fc3f-16138edd6f00"
      },
      "outputs": [
        {
          "output_type": "stream",
          "name": "stdout",
          "text": [
            "No. of unique values in train_id is 148127\n",
            "No. of unique values in name is 199230\n",
            "No. of unique values in item_condition_id is 5\n",
            "No. of unique values in category_name is 1081\n",
            "No. of unique values in brand_name is 2694\n",
            "No. of unique values in price is 453\n",
            "No. of unique values in shipping is 2\n",
            "No. of unique values in item_description is 195322\n",
            "No. of unique values in test_id is 69462\n"
          ]
        }
      ],
      "source": [
        "# Check Unique Values for each variable using a for loop.\n",
        "for i in combined_ML.columns.tolist():\n",
        "  print(\"No. of unique values in\",i,\"is\",combined_ML[i].nunique())"
      ]
    },
    {
      "cell_type": "markdown",
      "metadata": {
        "id": "FWk1Ue6CP3FA"
      },
      "source": [
        "## ***3. Data Wrangling***"
      ]
    },
    {
      "cell_type": "markdown",
      "metadata": {
        "id": "bKJF3rekwFvQ"
      },
      "source": [
        "### Data Wrangling Code"
      ]
    },
    {
      "cell_type": "code",
      "source": [
        "# Handling Missing Values & Missing Value Imputation\n",
        "# Function to handle missing values in the DataFrame\n",
        "def handle_missing_values(df):\n",
        "    df['category_name'].fillna(value='missing', inplace=True)\n",
        "    df['brand_name'].fillna(value='None', inplace=True)\n",
        "    df['item_description'].fillna(value='None', inplace=True)"
      ],
      "metadata": {
        "id": "vFDX6sJYSFsw"
      },
      "execution_count": 17,
      "outputs": []
    },
    {
      "cell_type": "code",
      "source": [
        "# Handling Missing Values in combined and ML combined\n",
        "handle_missing_values(combined)\n",
        "handle_missing_values(combined_ML)"
      ],
      "metadata": {
        "id": "i6S2c3hvSsOO"
      },
      "execution_count": 18,
      "outputs": []
    },
    {
      "cell_type": "code",
      "execution_count": 19,
      "metadata": {
        "id": "wk-9a2fpoLcV"
      },
      "outputs": [],
      "source": [
        "# Converting specific columns to categorical data types\n",
        "# Function to convert specific columns to categorical data types\n",
        "def to_categorical(df):\n",
        "    df['brand_name'] = df['brand_name'].astype('category')\n",
        "    df['category_name'] = df['category_name'].astype('category')\n",
        "    df['item_condition_id'] = df['item_condition_id'].astype('category')"
      ]
    },
    {
      "cell_type": "code",
      "execution_count": 20,
      "metadata": {
        "id": "ZK50dOdGVIyL"
      },
      "outputs": [],
      "source": [
        "# Applying 'to_categorical' function in combined and ML combined DataFrames\n",
        "to_categorical(combined)\n",
        "to_categorical(combined_ML)"
      ]
    },
    {
      "cell_type": "code",
      "execution_count": 21,
      "metadata": {
        "id": "EO1FDrbcVx9x"
      },
      "outputs": [],
      "source": [
        "# Convert the 'item_description' column to a string data type for both combined and ML combined\n",
        "combined.item_description = combined.item_description.astype(str)\n",
        "combined_ML.item_description = combined_ML.item_description.astype(str)"
      ]
    },
    {
      "cell_type": "markdown",
      "metadata": {
        "id": "MSa1f5Uengrz"
      },
      "source": [
        "### What all manipulations have i done and insights i found?"
      ]
    },
    {
      "cell_type": "markdown",
      "metadata": {
        "id": "LbyXE7I1olp8"
      },
      "source": [
        "To make the data analysis ready i have done the following:\n",
        "1. Filled missing values in 'category_name' with 'missing'.\n",
        "2. Filled missing values in 'brand_name' with 'None'.\n",
        "3. Filled missing values in 'item_description' with 'None'.\n",
        "4. Convert type of brand_name to categorical data type.\n",
        "5. Convert type of category_name to categorical data type.\n",
        "6. Convert type of item_condition_id to categorical data type.\n",
        "7. Convert type of item_description to string data type."
      ]
    },
    {
      "cell_type": "markdown",
      "metadata": {
        "id": "GF8Ens_Soomf"
      },
      "source": [
        "## ***4. Data Vizualization, Storytelling & Experimenting with charts : Understand the relationships between variables***"
      ]
    },
    {
      "cell_type": "markdown",
      "metadata": {
        "id": "0wOQAZs5pc--"
      },
      "source": [
        "#### Chart - 1 : Price Distribution"
      ]
    },
    {
      "cell_type": "code",
      "execution_count": null,
      "metadata": {
        "id": "7v_ESjsspbW7",
        "colab": {
          "base_uri": "https://localhost:8080/",
          "height": 487
        },
        "outputId": "82e0366e-ee90-4706-b4fa-e02945981468"
      },
      "outputs": [
        {
          "output_type": "display_data",
          "data": {
            "text/plain": [
              "<Figure size 800x500 with 1 Axes>"
            ],
            "image/png": "[encoded data removed]"
          },
          "metadata": {}
        }
      ],
      "source": [
        "# Chart - 1 Visualization Code For Price Distribution\n",
        "# Set the figure size\n",
        "plt.figure(figsize=(8, 5))\n",
        "\n",
        "# Create a histogram of the 'price' column\n",
        "plt.hist(train['price'], bins=50, range=[0, 250], label='price')\n",
        "\n",
        "# Set the title and axis labels\n",
        "plt.title('Price Distribution', fontsize=12)\n",
        "plt.xlabel('Price', fontsize=10)\n",
        "plt.ylabel('Number of Samples', fontsize=10)\n",
        "\n",
        "# Display the plot\n",
        "plt.show()"
      ]
    },
    {
      "cell_type": "code",
      "source": [
        "# Filter data for items with shipping (shipping=1) and without shipping (shipping=0)\n",
        "shipping = train[train['shipping'] == 1]['price']\n",
        "no_shipping = train[train['shipping'] == 0]['price']\n",
        "\n",
        "# Set the figure size\n",
        "plt.figure(figsize=(8, 5))\n",
        "\n",
        "# Create histograms for both cases\n",
        "plt.hist(shipping, bins=50, density=True, range=[0, 250], alpha=0.7, label='Price With Shipping')\n",
        "plt.hist(no_shipping, bins=50, density=True, range=[0, 250], alpha=0.7, label='Price With No Shipping')\n",
        "\n",
        "# Set the title and axis labels\n",
        "plt.title('Price Distribution With/Without Shipping', fontsize=12)\n",
        "plt.xlabel('Price', fontsize=10)\n",
        "plt.ylabel('Normalized Samples', fontsize=10)\n",
        "\n",
        "# Add a legend with font size\n",
        "plt.legend(fontsize=10)\n",
        "\n",
        "# Display the plot\n",
        "plt.show()"
      ],
      "metadata": {
        "colab": {
          "base_uri": "https://localhost:8080/",
          "height": 487
        },
        "id": "QGgURZlcX1OP",
        "outputId": "4baab8d1-a637-4862-bac9-53bcf7a8ae68"
      },
      "execution_count": null,
      "outputs": [
        {
          "output_type": "display_data",
          "data": {
            "text/plain": [
              "<Figure size 800x500 with 1 Axes>"
            ],
            "image/png": "[encoded data removed]"
          },
          "metadata": {}
        }
      ]
    },
    {
      "cell_type": "markdown",
      "metadata": {
        "id": "lQ7QKXXCp7Bj"
      },
      "source": [
        "##### What is/are the insight(s) found from the chart?"
      ]
    },
    {
      "cell_type": "markdown",
      "metadata": {
        "id": "C_j1G7yiqdRP"
      },
      "source": [
        "From the above chart, we got to know that the most number of sample's price is vary between 10 to 20."
      ]
    },
    {
      "cell_type": "markdown",
      "metadata": {
        "id": "KSlN3yHqYklG"
      },
      "source": [
        "#### Chart - 2 : Distribution of Top 10 Brand"
      ]
    },
    {
      "cell_type": "code",
      "execution_count": null,
      "metadata": {
        "id": "R4YgtaqtYklH",
        "colab": {
          "base_uri": "https://localhost:8080/",
          "height": 487
        },
        "outputId": "4e917357-7d5f-4232-813e-e10b78cd072a"
      },
      "outputs": [
        {
          "output_type": "display_data",
          "data": {
            "text/plain": [
              "<Figure size 800x500 with 1 Axes>"
            ],
            "image/png": "[encoded data removed]"
          },
          "metadata": {}
        }
      ],
      "source": [
        "# Chart - 2 Bar Plot Visualization Code for Top 10 Brands Distribution\n",
        "# Get the top 10 brands by their count and create a DataFrame\n",
        "top_10_brands = train['brand_name'].value_counts()[:10].reset_index().rename(columns={'index': 'brand_name', 'brand_name': 'count'})\n",
        "\n",
        "# Set the figure size\n",
        "plt.figure(figsize=(8, 5))\n",
        "\n",
        "# Create a bar plot for brand distribution\n",
        "ax = sns.barplot(x=\"count\", y=\"brand_name\", data=top_10_brands, palette=\"crest\")\n",
        "\n",
        "# Set the title and axis labels\n",
        "ax.set_title('Top 10 Brand Distribution', fontsize=12)\n",
        "plt.ylabel('Brand Names', fontsize=10)\n",
        "\n",
        "# Show the plot\n",
        "plt.show()"
      ]
    },
    {
      "cell_type": "markdown",
      "metadata": {
        "id": "ijmpgYnKYklI"
      },
      "source": [
        "##### What is/are the insight(s) found from the chart?"
      ]
    },
    {
      "cell_type": "markdown",
      "metadata": {
        "id": "PSx9atu2YklI"
      },
      "source": [
        "From above bar plot we can clearly see that the most popular brands are PINK, Nike, followed by Victoria's Secret and LuLaRoe."
      ]
    },
    {
      "cell_type": "markdown",
      "metadata": {
        "id": "EM7whBJCYoAo"
      },
      "source": [
        "#### Chart - 3 : Distribution of Top 10 Expensive Brands"
      ]
    },
    {
      "cell_type": "code",
      "execution_count": null,
      "metadata": {
        "id": "t6GMdE67YoAp",
        "colab": {
          "base_uri": "https://localhost:8080/",
          "height": 487
        },
        "outputId": "ed0a1da8-55ea-4b94-881c-dc25722d90cf"
      },
      "outputs": [
        {
          "output_type": "display_data",
          "data": {
            "text/plain": [
              "<Figure size 800x500 with 1 Axes>"
            ],
            "image/png": "[encoded data removed]"
          },
          "metadata": {}
        }
      ],
      "source": [
        "# Chart - 3 Bar Plot Visualization Code for Top 10 Expensive Brands Distribution\n",
        "# Calculate the mean price for the top 10 brands\n",
        "top10_brand = train.groupby('brand_name').mean()\n",
        "df_expPrice = pd.DataFrame(top10_brand['price'].nlargest(10).reset_index())\n",
        "\n",
        "# Set the figure size\n",
        "plt.figure(figsize=(8, 5))\n",
        "\n",
        "# Create a bar plot for the top 10 expensive brands using the defined color palette\n",
        "ax = sns.barplot(x=\"price\", y=\"brand_name\", data=df_expPrice, palette=\"crest\")\n",
        "\n",
        "# Set the title and axis labels\n",
        "ax.set_title('Top 10 Expensive Brands', fontsize=12)\n",
        "plt.ylabel('Brand Names', fontsize=10)\n",
        "\n",
        "# Show the plot\n",
        "plt.show()"
      ]
    },
    {
      "cell_type": "markdown",
      "metadata": {
        "id": "85gYPyotYoAp"
      },
      "source": [
        "##### What is/are the insight(s) found from the chart?"
      ]
    },
    {
      "cell_type": "markdown",
      "metadata": {
        "id": "4jstXR6OYoAp"
      },
      "source": [
        "From above bar plot we found that the Demdaco, Proenza Schouler are top most expensive brands followed by Auto Meter, Oris and MCM Worldwide."
      ]
    },
    {
      "cell_type": "markdown",
      "metadata": {
        "id": "4Of9eVA-YrdM"
      },
      "source": [
        "#### Chart - 4 : Distribution of Top 10 Main Categories"
      ]
    },
    {
      "cell_type": "code",
      "execution_count": null,
      "metadata": {
        "id": "ELtbK3FhJZep"
      },
      "outputs": [],
      "source": [
        "# Define a function to split the category name into main, sub1, and sub2 categories\n",
        "def transform_category_name(category_name):\n",
        "    try:\n",
        "        main, sub1, sub2 = category_name.split('/')\n",
        "        return main, sub1, sub2\n",
        "    except:\n",
        "        return np.nan, np.nan, np.nan\n",
        "\n",
        "# Apply the transformation function to the 'category_name' column and create new columns\n",
        "train['category_main'], train['category_sub1'], train['category_sub2'] = zip(*train['category_name'].apply(transform_category_name))\n",
        "\n",
        "# Create a DataFrame with the main, sub1, sub2 categories, and the 'price' column\n",
        "cat_train = train[['category_main', 'category_sub1', 'category_sub2', 'price']]"
      ]
    },
    {
      "cell_type": "code",
      "execution_count": null,
      "metadata": {
        "id": "irlUoxc8YrdO",
        "colab": {
          "base_uri": "https://localhost:8080/",
          "height": 487
        },
        "outputId": "7816e3b6-907b-4b86-e0bd-2655780ca43a"
      },
      "outputs": [
        {
          "output_type": "display_data",
          "data": {
            "text/plain": [
              "<Figure size 800x500 with 1 Axes>"
            ],
            "image/png": "[encoded data removed]"
          },
          "metadata": {}
        }
      ],
      "source": [
        "# Chart - 4 Count Plot Visualization Code for Top 10 Main Categories\n",
        "# Set the figure size for the plot\n",
        "plt.figure(figsize=(8, 5))\n",
        "\n",
        "# Create a count plot for the top 10 main categories\n",
        "sns.countplot(y=train['category_main'], order=train['category_main'].value_counts().index, orient='v', palette=\"crest\")\n",
        "\n",
        "# Set the title with a larger font size\n",
        "plt.title('Top 10 Main Categories', fontsize=12)\n",
        "\n",
        "# Set the y-axis label and x-axis label with appropriate font sizes\n",
        "plt.ylabel('Main Category', fontsize=10)\n",
        "plt.xlabel('Number of Items in Main Category', fontsize=10)\n",
        "\n",
        "# Show the plot\n",
        "plt.show()"
      ]
    },
    {
      "cell_type": "markdown",
      "metadata": {
        "id": "F6T5p64dYrdO"
      },
      "source": [
        "##### What is/are the insight(s) found from the chart?"
      ]
    },
    {
      "cell_type": "markdown",
      "metadata": {
        "id": "Xx8WAJvtYrdO"
      },
      "source": [
        "From above graph, it is observed that Women is the top most main category. Followed by Beauty, Kids and Electronics."
      ]
    },
    {
      "cell_type": "markdown",
      "metadata": {
        "id": "bamQiAODYuh1"
      },
      "source": [
        "#### Chart - 5 : Category Distribution With/Without Brand"
      ]
    },
    {
      "cell_type": "code",
      "execution_count": null,
      "metadata": {
        "id": "1XTBXIeHxDKR"
      },
      "outputs": [],
      "source": [
        "# Create a \"no_brand\" column\n",
        "train['no_brand'] = train['brand_name'].isnull()"
      ]
    },
    {
      "cell_type": "code",
      "execution_count": null,
      "metadata": {
        "id": "TIJwrbroYuh3",
        "colab": {
          "base_uri": "https://localhost:8080/",
          "height": 410
        },
        "outputId": "2ec22275-e4cf-4008-eed7-c17c60e13605"
      },
      "outputs": [
        {
          "output_type": "display_data",
          "data": {
            "text/plain": [
              "<Figure size 800x400 with 1 Axes>"
            ],
            "image/png": "[encoded data removed]"
          },
          "metadata": {}
        }
      ],
      "source": [
        "# Chart - 5 Count Plot Visualization Code for Category Distribution With/Without Brand\n",
        "# Set the figure size for the plot\n",
        "f, ax = plt.subplots(figsize=(8, 4))\n",
        "\n",
        "# Create a count plot for the distribution of categories with and without brand\n",
        "sns.countplot(y='category_main', hue='no_brand', data=train, palette=['green', '#db0000'])\n",
        "\n",
        "# Set the title\n",
        "ax.set_title('Category Distribution With/Without Brand', fontsize=12)\n",
        "\n",
        "# Show the plot\n",
        "plt.show()"
      ]
    },
    {
      "cell_type": "markdown",
      "metadata": {
        "id": "GwzvFGzlYuh3"
      },
      "source": [
        "##### What is/are the insight(s) found from the chart?"
      ]
    },
    {
      "cell_type": "markdown",
      "metadata": {
        "id": "uyqkiB8YYuh3"
      },
      "source": [
        "From above graph, it is observed that category distribution with and without brand, both are high for women category."
      ]
    },
    {
      "cell_type": "markdown",
      "metadata": {
        "id": "OH-pJp9IphqM"
      },
      "source": [
        "#### Chart - 6 : Distribution of Top 10 2nd Categories"
      ]
    },
    {
      "cell_type": "code",
      "execution_count": null,
      "metadata": {
        "id": "y6tnfb-SBv4m"
      },
      "outputs": [],
      "source": [
        "# Group the data by 'category_sub2' and calculate the mean price\n",
        "df = cat_train.groupby(['category_sub2'])['price'].agg(['mean']).reset_index()\n",
        "\n",
        "# Rename the columns for clarity\n",
        "df = df.rename(columns={'category_sub2': 'Sub Category 2', 'mean': 'Mean Price'})\n",
        "\n",
        "# Sort the DataFrame by mean price in descending order and select the top 10 rows\n",
        "df = df.sort_values('Mean Price', ascending=False).head(10)"
      ]
    },
    {
      "cell_type": "code",
      "execution_count": null,
      "metadata": {
        "id": "kuRf4wtuphqN",
        "colab": {
          "base_uri": "https://localhost:8080/",
          "height": 487
        },
        "outputId": "914cfd65-c330-4cf6-c641-8f06602b36b5"
      },
      "outputs": [
        {
          "output_type": "display_data",
          "data": {
            "text/plain": [
              "<Figure size 800x500 with 1 Axes>"
            ],
            "image/png": "[encoded data removed]"
          },
          "metadata": {}
        }
      ],
      "source": [
        "# Chart - 6 Count Plot Visualization Code for Top 10 2nd Category\n",
        "# Set the figure size for the plot\n",
        "plt.figure(figsize=(8, 5))\n",
        "\n",
        "# Create a horizontal bar plot\n",
        "plt.barh(range(0, len(df)), df['Mean Price'], align='center', alpha=0.5, color='skyblue')\n",
        "\n",
        "# Set the y-axis labels to display the subcategories\n",
        "plt.yticks(range(0, len(df)), df['Sub Category 2'], fontsize=10)\n",
        "\n",
        "# Set the x-axis label, y-axis label, and title\n",
        "plt.xlabel('Price', fontsize=10)\n",
        "plt.ylabel('Sub Category 2', fontsize=10)\n",
        "plt.title('Top 10 2nd Category (Mean Price)', fontsize=12)\n",
        "\n",
        "# Show the plot\n",
        "plt.show()"
      ]
    },
    {
      "cell_type": "markdown",
      "metadata": {
        "id": "_ouA3fa0phqN"
      },
      "source": [
        "##### What is/are the insight(s) found from the chart?"
      ]
    },
    {
      "cell_type": "markdown",
      "metadata": {
        "id": "VECbqPI7phqN"
      },
      "source": [
        "From the above chart we come to know that compare to the mean price, Cell Phones & Smartphones are in the top. Followed by Satchel, Digital Cameras, Lightweight and Air Conditioners are in the top of 2nd category list."
      ]
    },
    {
      "cell_type": "markdown",
      "metadata": {
        "id": "PIIx-8_IphqN"
      },
      "source": [
        "#### Chart - 7 : Distribution of Top 10 1st Categories"
      ]
    },
    {
      "cell_type": "code",
      "source": [
        "# Group by the 1st subcategory and calculate the mean price\n",
        "df = cat_train.groupby(['category_sub1'])['price'].agg(['mean']).reset_index().rename(columns={'index': 'main', 'category_main':'count'})\n",
        "\n",
        "# Sort the data by mean price in descending order and select the top 10\n",
        "df = df.sort_values('mean', ascending=False).head(10)"
      ],
      "metadata": {
        "id": "z1AC_Jz6AsTN"
      },
      "execution_count": null,
      "outputs": []
    },
    {
      "cell_type": "code",
      "execution_count": null,
      "metadata": {
        "id": "lqAIGUfyphqO",
        "colab": {
          "base_uri": "https://localhost:8080/",
          "height": 487
        },
        "outputId": "2a1b7bf0-534c-4547-e25b-56d0ef4d3025"
      },
      "outputs": [
        {
          "output_type": "display_data",
          "data": {
            "text/plain": [
              "<Figure size 800x500 with 1 Axes>"
            ],
            "image/png": "[encoded data removed]"
          },
          "metadata": {}
        }
      ],
      "source": [
        "# Chart - 7 Count Plot Visualization Code for Top 10 1st Category\n",
        "# Set the figure size for the plot\n",
        "plt.figure(figsize=(8, 5))\n",
        "\n",
        "# Create a horizontal bar plot with a different color\n",
        "plt.barh(range(0, len(df)), df['mean'], align='center', alpha=0.7, color='green')\n",
        "\n",
        "# Set the y-axis labels to display the 1st subcategories\n",
        "plt.yticks(range(0, len(df)), df['category_sub1'], fontsize=12)\n",
        "\n",
        "# Set the x-axis label, y-axis label, and title\n",
        "plt.xlabel('Price', fontsize=10)\n",
        "plt.ylabel('Sub Category 1', fontsize=10)\n",
        "plt.title('Top 10 1st Category (Mean Price)', fontsize=12)\n",
        "\n",
        "# Show the plot\n",
        "plt.show()"
      ]
    },
    {
      "cell_type": "markdown",
      "metadata": {
        "id": "RpSgAnDeE1m3"
      },
      "source": [
        "##### What is/are the insight(s) found from the chart?"
      ]
    },
    {
      "cell_type": "markdown",
      "metadata": {
        "id": "eBeWb9D4E1nJ"
      },
      "source": [
        "From the above chart we come to know that compare to the mean price, Golf, Shoes are in the top. Followed by Footwear, TV, Audio and Surveillance are in the top of 1st category list."
      ]
    },
    {
      "cell_type": "markdown",
      "metadata": {
        "id": "NC_X3p0fY2L0"
      },
      "source": [
        "#### Chart - 8 : Correlation Heatmap"
      ]
    },
    {
      "cell_type": "code",
      "execution_count": null,
      "metadata": {
        "id": "xyC9zolEZNRQ",
        "colab": {
          "base_uri": "https://localhost:8080/",
          "height": 545
        },
        "outputId": "5cf5bd46-ad69-489f-fa45-ace0e8ed2594"
      },
      "outputs": [
        {
          "output_type": "display_data",
          "data": {
            "text/plain": [
              "<Figure size 1000x600 with 2 Axes>"
            ],
            "image/png": "[encoded data removed]"
          },
          "metadata": {}
        }
      ],
      "source": [
        "# Correlation Heatmap Visualization Code\n",
        "corr_matrix = train.corr()\n",
        "\n",
        "# Plot Heatmap\n",
        "plt.figure(figsize=(10, 6))\n",
        "sns.heatmap(corr_matrix, annot=True, cmap='Reds_r')\n",
        "\n",
        "# Setting Labels\n",
        "plt.title('Correlation Matrix heatmap')\n",
        "\n",
        "# Display Chart\n",
        "plt.show()"
      ]
    },
    {
      "cell_type": "markdown",
      "metadata": {
        "id": "YPEH6qLeZNRQ"
      },
      "source": [
        "##### What is/are the insight(s) found from the chart?"
      ]
    },
    {
      "cell_type": "markdown",
      "metadata": {
        "id": "bfSqtnDqZNRR"
      },
      "source": [
        "'no_brand' and 'shipping' are highly negatively correlated with 'item_condition_id'."
      ]
    },
    {
      "cell_type": "markdown",
      "metadata": {
        "id": "yLjJCtPM0KBk"
      },
      "source": [
        "## ***5. Feature Engineering & Data Pre-processing***"
      ]
    },
    {
      "cell_type": "markdown",
      "metadata": {
        "id": "Iwf50b-R2tYG"
      },
      "source": [
        "### 1. Textual Data Preprocessing\n",
        "(It's mandatory for textual dataset i.e., NLP, Sentiment Analysis, Text Clustering etc.)"
      ]
    },
    {
      "cell_type": "markdown",
      "metadata": {
        "id": "WVIkgGqN3qsr"
      },
      "source": [
        "#### 1. Lower Casing"
      ]
    },
    {
      "cell_type": "code",
      "execution_count": 22,
      "metadata": {
        "id": "88JnJ1jN3w7j"
      },
      "outputs": [],
      "source": [
        "# Lower Casing\n",
        "# Define a function to convert text into lower cases\n",
        "def to_lower(x):\n",
        "  return x.lower()\n",
        "\n",
        "# Apply the to_lower() function to the 'item_description' and 'name' column of the combined DataFrame\n",
        "combined['name'] = combined['name'].apply(to_lower)\n",
        "combined['item_description'] = combined['item_description'].apply(to_lower)\n",
        "\n",
        "# Apply the to_lower() function to the 'item_description' and 'name' column of the ML combined DataFrame\n",
        "combined_ML['name'] = combined_ML['name'].apply(to_lower)\n",
        "combined_ML['item_description'] = combined_ML['item_description'].apply(to_lower)"
      ]
    },
    {
      "cell_type": "markdown",
      "metadata": {
        "id": "XkPnILGE3zoT"
      },
      "source": [
        "#### 2. Removing Punctuations"
      ]
    },
    {
      "cell_type": "code",
      "execution_count": 23,
      "metadata": {
        "id": "vqbBqNaA33c0"
      },
      "outputs": [],
      "source": [
        "# Remove Punctuations\n",
        "# Define a function to remove punctuations from text\n",
        "def remove_punctuation(text):\n",
        "    '''a function for removing punctuation'''\n",
        "    # Replace each punctuation mark with no space, effectively deleting it from the text\n",
        "    translator = str.maketrans('', '', string.punctuation)\n",
        "    text_without_punct = text.translate(translator)\n",
        "    return text_without_punct\n",
        "\n",
        "# Apply the remove_punctuation() function to the 'item_description' and 'name' column of the combined DataFrame\n",
        "combined['name'] = combined['name'].apply(remove_punctuation)\n",
        "combined['item_description'] = combined['item_description'].apply(remove_punctuation)\n",
        "\n",
        "# Apply the remove_punctuation() function to the 'item_description' and 'name' column of the ML combined DataFrame\n",
        "combined_ML['name'] = combined_ML['name'].apply(remove_punctuation)\n",
        "combined_ML['item_description'] = combined_ML['item_description'].apply(remove_punctuation)"
      ]
    },
    {
      "cell_type": "markdown",
      "metadata": {
        "id": "Hlsf0x5436Go"
      },
      "source": [
        "#### 3. Removing URLs & Removing words and digits contain digits."
      ]
    },
    {
      "cell_type": "code",
      "execution_count": 24,
      "metadata": {
        "id": "2sxKgKxu4Ip3"
      },
      "outputs": [],
      "source": [
        "# Remove URLs & Remove words and digits contain digits\n",
        "# Define a function to remove digits from text\n",
        "def remove_digits(x):\n",
        "    x = ''.join([i for i in x if not i.isdigit()])\n",
        "    return x\n",
        "\n",
        "# Apply the remove_digits() function to the 'item_description' and 'name' column of the combined DataFrame\n",
        "combined['name'] = combined['name'].apply(remove_digits)\n",
        "combined['item_description'] = combined['item_description'].apply(remove_digits)\n",
        "\n",
        "# Apply the remove_digits() function to the 'item_description' and 'name' column of the ML combined DataFrame\n",
        "combined_ML['name'] = combined_ML['name'].apply(remove_digits)\n",
        "combined_ML['item_description'] = combined_ML['item_description'].apply(remove_digits)"
      ]
    },
    {
      "cell_type": "markdown",
      "metadata": {
        "id": "mT9DMSJo4nBL"
      },
      "source": [
        "#### 4. Removing Stopwords"
      ]
    },
    {
      "cell_type": "code",
      "execution_count": 25,
      "metadata": {
        "id": "T2LSJh154s8W"
      },
      "outputs": [],
      "source": [
        "# Remove Stopwords\n",
        "# Since the language is english, we need to import english stop words\n",
        "stop_words = nltk.corpus.stopwords.words('english')\n",
        "\n",
        "def remove_stop_words(x):\n",
        "  ''' function to remove stop words'''\n",
        "  x = x.split()\n",
        "  res = ''\n",
        "  for word in x:\n",
        "    if word not in stop_words:\n",
        "      res = res + ' ' + word\n",
        "  return res\n",
        "\n",
        "# Apply the remove_stop_words() function to the 'item_description' and 'name' column of the combined DataFrame\n",
        "combined['name'] = combined['name'].apply(remove_stop_words)\n",
        "combined['item_description'] = combined['item_description'].apply(remove_stop_words)\n",
        "\n",
        "# Apply the remove_stop_words() function to the 'item_description' and 'name' column of the ML combined DataFrame\n",
        "combined_ML['name'] = combined_ML['name'].apply(remove_stop_words)\n",
        "combined_ML['item_description'] = combined_ML['item_description'].apply(remove_stop_words)"
      ]
    },
    {
      "cell_type": "markdown",
      "metadata": {
        "id": "T0VqWOYE6DLQ"
      },
      "source": [
        "#### 5. Text Vectorization"
      ]
    },
    {
      "cell_type": "code",
      "execution_count": 26,
      "metadata": {
        "id": "yBRtdhth6JDE"
      },
      "outputs": [],
      "source": [
        "# Vectorizing Text\n",
        "# Create the object of Count Vectorizer\n",
        "cv = CountVectorizer(min_df=10)\n",
        "# setting min_df = 10\n",
        "\n",
        "# Fit the vectorizer using the name column\n",
        "X_name = cv.fit_transform(combined['name'])"
      ]
    },
    {
      "cell_type": "code",
      "execution_count": 27,
      "metadata": {
        "id": "gP08lcBCJK1h",
        "colab": {
          "base_uri": "https://localhost:8080/"
        },
        "outputId": "ffb85bf7-a448-4cb4-e118-e21db12f2b21"
      },
      "outputs": [
        {
          "output_type": "execute_result",
          "data": {
            "text/plain": [
              "<2175894x20470 sparse matrix of type '<class 'numpy.int64'>'\n",
              "\twith 8148734 stored elements in Compressed Sparse Row format>"
            ]
          },
          "metadata": {},
          "execution_count": 27
        }
      ],
      "source": [
        "X_name"
      ]
    },
    {
      "cell_type": "code",
      "execution_count": 28,
      "metadata": {
        "id": "V3_loH9VPRhA"
      },
      "outputs": [],
      "source": [
        "# Vectorizing Text\n",
        "# Create the object of Count Vectorizer\n",
        "cv = CountVectorizer()\n",
        "\n",
        "# Fit the vectorizer using the category_name column\n",
        "X_category = cv.fit_transform(combined['category_name'])"
      ]
    },
    {
      "cell_type": "code",
      "execution_count": 29,
      "metadata": {
        "id": "tCYe1sABPXn5",
        "colab": {
          "base_uri": "https://localhost:8080/"
        },
        "outputId": "c38628ed-a4b3-4f1e-a09c-39267ca3cd45"
      },
      "outputs": [
        {
          "output_type": "execute_result",
          "data": {
            "text/plain": [
              "<2175894x1022 sparse matrix of type '<class 'numpy.int64'>'\n",
              "\twith 8711929 stored elements in Compressed Sparse Row format>"
            ]
          },
          "metadata": {},
          "execution_count": 29
        }
      ],
      "source": [
        "X_category"
      ]
    },
    {
      "cell_type": "code",
      "source": [
        "# Vectorizing Text\n",
        "# Create the object of Tfidf Vectorizer\n",
        "tv = TfidfVectorizer(max_features=55000, ngram_range=(1, 2), stop_words='english')\n",
        "\n",
        "# Fit the vectorizer using the item_description column\n",
        "X_description = tv.fit_transform(combined['item_description'])"
      ],
      "metadata": {
        "id": "y8Xlwiw2gQ4I"
      },
      "execution_count": 30,
      "outputs": []
    },
    {
      "cell_type": "code",
      "source": [
        "# Vectorizing Text\n",
        "# Create the object of Label Binarizer\n",
        "lb = LabelBinarizer(sparse_output=True)\n",
        "\n",
        "# Fit the Label Binarizer using the brand_name column\n",
        "X_brand = lb.fit_transform(combined['brand_name'])"
      ],
      "metadata": {
        "id": "q3N4kMcogqlW"
      },
      "execution_count": 31,
      "outputs": []
    },
    {
      "cell_type": "markdown",
      "metadata": {
        "id": "-oLEiFgy-5Pf"
      },
      "source": [
        "### 2. CSR_Matrix & Sparse Matrices"
      ]
    },
    {
      "cell_type": "code",
      "execution_count": 32,
      "metadata": {
        "id": "h1qC4yhBApWC"
      },
      "outputs": [],
      "source": [
        "# Create our final sparse matrix\n",
        "X_dummies = csr_matrix(pd.get_dummies(combined[['item_condition_id', 'shipping']], sparse=True).values)\n",
        "\n",
        "# Combine everything together\n",
        "sparse_merge = hstack((X_dummies, X_description, X_brand, X_category, X_name)).tocsr()"
      ]
    },
    {
      "cell_type": "markdown",
      "metadata": {
        "id": "BhH2vgX9EjGr"
      },
      "source": [
        "### 3. Data Splitting"
      ]
    },
    {
      "cell_type": "code",
      "execution_count": 33,
      "metadata": {
        "id": "0CTyd2UwEyNM"
      },
      "outputs": [],
      "source": [
        "# Split the sparse_merge dataset into the training and test sets\n",
        "X_train_sparse = sparse_merge[:train_size]\n",
        "\n",
        "X_test = sparse_merge[train_size:]"
      ]
    },
    {
      "cell_type": "markdown",
      "source": [
        "####Cross Validation"
      ],
      "metadata": {
        "id": "kO-5U8lUmUEE"
      }
    },
    {
      "cell_type": "code",
      "source": [
        "# Specify the proportion of data for the validation set\n",
        "eval_size = 0.10\n",
        "\n",
        "# Create KFold cross-validation object\n",
        "kf = KFold(n_splits=round(1. / eval_size))\n",
        "\n",
        "# Initialize variables to store train and validation indices\n",
        "train_indices, valid_indices = None, None\n",
        "\n",
        "# Loop through the KFold splits\n",
        "for train_index, valid_index in kf.split(X_train_sparse):\n",
        "    train_indices, valid_indices = train_index, valid_index\n",
        "    break  # Stop after the first fold\n",
        "\n",
        "# Split the dataset into training and validation sets\n",
        "X_train, y_train = X_train_sparse[train_indices], y[train_indices]\n",
        "X_valid, y_valid = X_train_sparse[valid_indices], y[valid_indices]"
      ],
      "metadata": {
        "id": "hmF5uXa-jHWR"
      },
      "execution_count": 34,
      "outputs": []
    },
    {
      "cell_type": "markdown",
      "metadata": {
        "id": "VfCC591jGiD4"
      },
      "source": [
        "## ***6. ML Model Implementation***"
      ]
    },
    {
      "cell_type": "code",
      "source": [
        "def rmsle(y, y0):\n",
        "    \"\"\"\n",
        "    Calculate the Root Mean Square Error (RMSE) between two arrays.\n",
        "\n",
        "    Parameters:\n",
        "    y (array-like): Ground truth values.\n",
        "    y0 (array-like): Predicted values.\n",
        "\n",
        "    Returns:\n",
        "    float: The RMSE between y and y0.\n",
        "    \"\"\"\n",
        "    assert len(y) == len(y0)\n",
        "    return np.sqrt(np.mean(np.power(np.log1p(y) - np.log1p(y0), 2)))"
      ],
      "metadata": {
        "id": "cqzDsGkyn2Up"
      },
      "execution_count": 35,
      "outputs": []
    },
    {
      "cell_type": "markdown",
      "metadata": {
        "id": "OB4l2ZhMeS1U"
      },
      "source": [
        "### ML Model - 1 : Linear Regression"
      ]
    },
    {
      "cell_type": "code",
      "source": [
        "# ML Model - 1 Implementation\n",
        "# Measure the start time\n",
        "start_time = time.time()\n",
        "\n",
        "# Create a Linear Regression model\n",
        "model = LinearRegression()\n",
        "\n",
        "# Train the model on the training data\n",
        "model.fit(X_train, y_train)\n",
        "\n",
        "# Make predictions on the validation set\n",
        "preds_valid = model.predict(X_valid)\n",
        "\n",
        "# Calculate the time taken for Linear Regression training\n",
        "training_time = time.time() - start_time\n",
        "\n",
        "# Calculate and print the Root Mean Squared Logarithmic Error (RMSLE) on the validation set\n",
        "rmsle_score = rmsle(np.expm1(y_valid), np.expm1(preds_valid))\n",
        "print('[{}] Linear Regression completed.'.format(training_time))\n",
        "print(\"Linear Regression RMSLE: \" + str(rmsle_score))"
      ],
      "metadata": {
        "colab": {
          "base_uri": "https://localhost:8080/"
        },
        "id": "uPH4S9bObXZ7",
        "outputId": "08d3643b-3e43-4eec-8e73-986848d2729c"
      },
      "execution_count": 40,
      "outputs": [
        {
          "output_type": "stream",
          "name": "stdout",
          "text": [
            "[2072.828018426895] Linear Regression completed.\n",
            "Linear Regression rmsle: 0.474766633041383\n"
          ]
        }
      ]
    },
    {
      "cell_type": "code",
      "source": [
        "# Transform the prices back to its original price\n",
        "np.expm1(preds_valid)"
      ],
      "metadata": {
        "colab": {
          "base_uri": "https://localhost:8080/"
        },
        "id": "7mjhcdS6Z6Dh",
        "outputId": "c3e40723-da84-4c5d-ef32-27e99a0be5d5"
      },
      "execution_count": 41,
      "outputs": [
        {
          "output_type": "execute_result",
          "data": {
            "text/plain": [
              "array([  9.44882252, 105.5014096 ,   9.43550168, ...,  29.3413428 ,\n",
              "         8.71841308,  11.86833571])"
            ]
          },
          "metadata": {},
          "execution_count": 41
        }
      ]
    },
    {
      "cell_type": "markdown",
      "metadata": {
        "id": "ArJBuiUVfxKd"
      },
      "source": [
        "#### Explain the ML Model used and it's performance."
      ]
    },
    {
      "cell_type": "markdown",
      "source": [
        "The Linear Regression model is a straightforward and interpretable algorithm commonly used for regression tasks. It works by finding the linear relationship between the input features and the target variable, which, in this case, is the price of products.\n",
        "\n",
        "The performance of the Linear Regression model, as measured by the Root Mean Squared Logarithmic Error (RMSLE), resulted in a value of 0.4747. The RMSLE is a metric commonly used to evaluate regression models, and a lower RMSLE indicates a better model performance."
      ],
      "metadata": {
        "id": "VpzLlIgmi2e8"
      }
    },
    {
      "cell_type": "markdown",
      "metadata": {
        "id": "dJ2tPlVmpsJ0"
      },
      "source": [
        "### ML Model - 2 : Random Forest"
      ]
    },
    {
      "cell_type": "code",
      "execution_count": 43,
      "metadata": {
        "id": "0G42qmiaWde4",
        "colab": {
          "base_uri": "https://localhost:8080/"
        },
        "outputId": "b85d98c2-4bfc-42ac-e0ee-639d7944695c"
      },
      "outputs": [
        {
          "output_type": "stream",
          "name": "stdout",
          "text": [
            "[3794.880518436432] Random Forest completed.\n",
            "andom Forest rmsle: 0.7188323648286141\n"
          ]
        }
      ],
      "source": [
        "# ML Model - 2 Implementation\n",
        "# Create a Random Forest model with specified parameters\n",
        "model2 = RandomForestRegressor(\n",
        "    n_estimators=100,        # Adjust the number of trees\n",
        "    max_depth=10,            # Limit tree depth\n",
        "    min_samples_split=5,     # Increase minimum samples per split\n",
        "    max_features='sqrt',     # Set max features\n",
        "    n_jobs=-1                # Use all available CPU cores\n",
        ")\n",
        "\n",
        "# Measure the start time\n",
        "start_time = time.time()\n",
        "\n",
        "# Train the Random Forest model on the training data\n",
        "model2.fit(X_train, y_train)\n",
        "\n",
        "# Make predictions on the validation set\n",
        "rf_pred = model2.predict(X_valid)\n",
        "\n",
        "# Calculate and print the time taken for Random Forest training\n",
        "training_time = time.time() - start_time\n",
        "\n",
        "# Calculate and print the Root Mean Squared Logarithmic Error (RMSLE) on the validation set\n",
        "rmsle_score = rmsle(np.expm1(y_valid), np.expm1(rf_pred))\n",
        "print('[{}] Random Forest completed.'.format(training_time))\n",
        "print(\"Random Forest RMSLE: \" + str(rmsle_score))"
      ]
    },
    {
      "cell_type": "code",
      "source": [
        "# Transform the prices back to its original price\n",
        "np.expm1(rf_pred)"
      ],
      "metadata": {
        "colab": {
          "base_uri": "https://localhost:8080/"
        },
        "id": "hxKHLRu6bkeN",
        "outputId": "85f17a7a-65df-41f1-b159-47944a8de946"
      },
      "execution_count": 44,
      "outputs": [
        {
          "output_type": "execute_result",
          "data": {
            "text/plain": [
              "array([17.78140225, 20.33924852, 18.06345966, ..., 17.92750397,\n",
              "       17.83423657, 18.08711136])"
            ]
          },
          "metadata": {},
          "execution_count": 44
        }
      ]
    },
    {
      "cell_type": "markdown",
      "metadata": {
        "id": "4LCflwq1mXq-"
      },
      "source": [
        "#### Explain the ML Model used and it's performance."
      ]
    },
    {
      "cell_type": "markdown",
      "source": [
        "Random Forest is an ensemble learning technique based on decision trees. It combines multiple decision trees to make predictions and offers advantages such as handling non-linear relationships, feature importance estimation, and robustness to outliers.\n",
        "\n",
        "The performance of the Random Forest model, as assessed by the Root Mean Squared Logarithmic Error (RMSLE), resulted in a value of 0.7188. The RMSLE is a common metric used to evaluate regression models, where a lower RMSLE indicates better performance. In this case, the RMSLE of 0.7188 reflects the model's accuracy in predicting prices for online sellers."
      ],
      "metadata": {
        "id": "XtHXu_mHmXrA"
      }
    },
    {
      "cell_type": "markdown",
      "metadata": {
        "id": "Fze-IPXLpx6K"
      },
      "source": [
        "### ML Model - 3 : Ridge Regression"
      ]
    },
    {
      "cell_type": "code",
      "source": [
        "# ML Model - 3 Implementation\n",
        "# Create a Ridge Regression model\n",
        "model3 = Ridge(max_iter=100)\n",
        "\n",
        "# Train the model and make predictions as usual\n",
        "model3.fit(X_train, y_train)\n",
        "ridge_pred = model3.predict(X_valid)\n",
        "\n",
        "# Calculate and print the time taken for Random Forest training\n",
        "training_time = time.time() - start_time\n",
        "\n",
        "# Calculate and print the Root Mean Squared Logarithmic Error (RMSLE) on the validation set\n",
        "rmsle_score = rmsle(np.expm1(y_valid), np.expm1(ridge_pred))\n",
        "print('[{}] Ridge Regression completed.'.format(training_time))\n",
        "print(\"Ridge Regression RMSLE: \" + str(rmsle_score))"
      ],
      "metadata": {
        "colab": {
          "base_uri": "https://localhost:8080/"
        },
        "id": "31OpBVyT7hzo",
        "outputId": "84c1762b-9665-4a04-9afe-c518638f6455"
      },
      "execution_count": 48,
      "outputs": [
        {
          "output_type": "stream",
          "name": "stdout",
          "text": [
            "[390.46348118782043] Ridge Regression completed.\n",
            "Ridge Regression RMSLE: 0.47446619070156415\n"
          ]
        }
      ]
    },
    {
      "cell_type": "code",
      "source": [
        "# Transform the prices back to its original price\n",
        "np.expm1(ridge_pred)"
      ],
      "metadata": {
        "colab": {
          "base_uri": "https://localhost:8080/"
        },
        "id": "jiMv2wB2iWyV",
        "outputId": "9c498d16-92aa-48d0-ba3d-357b85e778de"
      },
      "execution_count": 49,
      "outputs": [
        {
          "output_type": "execute_result",
          "data": {
            "text/plain": [
              "array([ 9.39930434, 87.16384605,  8.78939183, ..., 23.77224133,\n",
              "        8.66421372, 11.90701092])"
            ]
          },
          "metadata": {},
          "execution_count": 49
        }
      ]
    },
    {
      "cell_type": "markdown",
      "metadata": {
        "id": "CeAm7lpdnIw1"
      },
      "source": [
        "#### Explain the ML Model used and it's performance."
      ]
    },
    {
      "cell_type": "markdown",
      "source": [
        "Ridge Regression is a linear regression technique that addresses multicollinearity and overfitting by introducing L2 regularization, which penalizes large coefficients. It's especially useful when dealing with datasets that have highly correlated features.\n",
        "\n",
        "The performance of the Ridge Regression model, as evaluated by the Root Mean Squared Logarithmic Error (RMSLE), resulted in a value of 0.4745. RMSLE is a widely-used metric for assessing regression models, where a lower RMSLE signifies better predictive accuracy. In this instance, an RMSLE of 0.4745 indicates the model's effectiveness in forecasting prices for online sellers.\n",
        "\n",
        "The Ridge Regression model has displayed strong performance, with an RMSLE of 0.4745, demonstrating its capacity to make accurate price predictions. It is particularly well-suited for situations where the dataset exhibits multicollinearity among predictor variables."
      ],
      "metadata": {
        "id": "NwEBa0rWnIxQ"
      }
    },
    {
      "cell_type": "markdown",
      "metadata": {
        "id": "cBFFvTBNJzUa"
      },
      "source": [
        "### Which ML model did i choose from the above created models as my final prediction model and why?"
      ]
    },
    {
      "cell_type": "markdown",
      "metadata": {
        "id": "6ksF5Q1LKTVm"
      },
      "source": [
        "From the RMSLE values we can see that the Ridge Regression model is best model for our data.\n",
        "\n",
        "Here we get the RMSLE value is 0.4745. Lower RMSLE signifies better predictive accuracy.\n",
        "\n",
        "The Ridge Regression model is a valuable choice for the price prediction task, with an RMSLE of 0.4745.\n",
        "\n",
        "While the model has shown remarkable performance, further refinements and optimizations may be explored to fine-tune its predictive capabilities and meet the specific demands of the online seller recommendation project."
      ]
    },
    {
      "cell_type": "markdown",
      "source": [
        "## ***7. Price Recommendation System***"
      ],
      "metadata": {
        "id": "xpnTXSVdoTab"
      }
    },
    {
      "cell_type": "code",
      "source": [
        "# Make price predictions on the test dataset\n",
        "preds = model3.predict(X_test)\n",
        "\n",
        "# Convert the predictions back to the original scale from logarithmic scale\n",
        "predicted_prices = np.expm1(preds)\n",
        "\n",
        "# Assign the predicted prices to the \"price\" column in the submission DataFrame\n",
        "submission[\"price\"] = predicted_prices\n",
        "\n",
        "# Save the submission DataFrame to a CSV file without index\n",
        "submission.to_csv(\"submission_ridge.csv\", index=False)"
      ],
      "metadata": {
        "id": "SdIWK7-5oc8X",
        "colab": {
          "base_uri": "https://localhost:8080/"
        },
        "outputId": "f95443fd-013a-49d1-bc0c-9ac72b57c18b"
      },
      "execution_count": 50,
      "outputs": [
        {
          "output_type": "stream",
          "name": "stdout",
          "text": [
            "        test_id      price\n",
            "0             0  10.455670\n",
            "1             1  12.991942\n",
            "2             2  48.457070\n",
            "3             3  15.931137\n",
            "4             4   7.379272\n",
            "...         ...        ...\n",
            "693354   693354  23.353390\n",
            "693355   693355  27.991315\n",
            "693356   693356   6.474056\n",
            "693357   693357  17.066524\n",
            "693358   693358  10.475430\n",
            "\n",
            "[693359 rows x 2 columns]\n"
          ]
        }
      ]
    },
    {
      "cell_type": "code",
      "source": [
        "# Display the submission DataFrame\n",
        "submission"
      ],
      "metadata": {
        "colab": {
          "base_uri": "https://localhost:8080/",
          "height": 424
        },
        "id": "YMzpttcFqOLZ",
        "outputId": "bb3a1eeb-12b7-4c1c-fd71-22797694f5ca"
      },
      "execution_count": 51,
      "outputs": [
        {
          "output_type": "execute_result",
          "data": {
            "text/plain": [
              "        test_id      price\n",
              "0             0  10.455670\n",
              "1             1  12.991942\n",
              "2             2  48.457070\n",
              "3             3  15.931137\n",
              "4             4   7.379272\n",
              "...         ...        ...\n",
              "693354   693354  23.353390\n",
              "693355   693355  27.991315\n",
              "693356   693356   6.474056\n",
              "693357   693357  17.066524\n",
              "693358   693358  10.475430\n",
              "\n",
              "[693359 rows x 2 columns]"
            ],
            "text/html": [
              "\n",
              "  <div id=\"df-6d20e1d7-6430-4b6b-9f59-784b0c054cac\" class=\"colab-df-container\">\n",
              "    <div>\n",
              "<style scoped>\n",
              "    .dataframe tbody tr th:only-of-type {\n",
              "        vertical-align: middle;\n",
              "    }\n",
              "\n",
              "    .dataframe tbody tr th {\n",
              "        vertical-align: top;\n",
              "    }\n",
              "\n",
              "    .dataframe thead th {\n",
              "        text-align: right;\n",
              "    }\n",
              "</style>\n",
              "<table border=\"1\" class=\"dataframe\">\n",
              "  <thead>\n",
              "    <tr style=\"text-align: right;\">\n",
              "      <th></th>\n",
              "      <th>test_id</th>\n",
              "      <th>price</th>\n",
              "    </tr>\n",
              "  </thead>\n",
              "  <tbody>\n",
              "    <tr>\n",
              "      <th>0</th>\n",
              "      <td>0</td>\n",
              "      <td>10.455670</td>\n",
              "    </tr>\n",
              "    <tr>\n",
              "      <th>1</th>\n",
              "      <td>1</td>\n",
              "      <td>12.991942</td>\n",
              "    </tr>\n",
              "    <tr>\n",
              "      <th>2</th>\n",
              "      <td>2</td>\n",
              "      <td>48.457070</td>\n",
              "    </tr>\n",
              "    <tr>\n",
              "      <th>3</th>\n",
              "      <td>3</td>\n",
              "      <td>15.931137</td>\n",
              "    </tr>\n",
              "    <tr>\n",
              "      <th>4</th>\n",
              "      <td>4</td>\n",
              "      <td>7.379272</td>\n",
              "    </tr>\n",
              "    <tr>\n",
              "      <th>...</th>\n",
              "      <td>...</td>\n",
              "      <td>...</td>\n",
              "    </tr>\n",
              "    <tr>\n",
              "      <th>693354</th>\n",
              "      <td>693354</td>\n",
              "      <td>23.353390</td>\n",
              "    </tr>\n",
              "    <tr>\n",
              "      <th>693355</th>\n",
              "      <td>693355</td>\n",
              "      <td>27.991315</td>\n",
              "    </tr>\n",
              "    <tr>\n",
              "      <th>693356</th>\n",
              "      <td>693356</td>\n",
              "      <td>6.474056</td>\n",
              "    </tr>\n",
              "    <tr>\n",
              "      <th>693357</th>\n",
              "      <td>693357</td>\n",
              "      <td>17.066524</td>\n",
              "    </tr>\n",
              "    <tr>\n",
              "      <th>693358</th>\n",
              "      <td>693358</td>\n",
              "      <td>10.475430</td>\n",
              "    </tr>\n",
              "  </tbody>\n",
              "</table>\n",
              "<p>693359 rows × 2 columns</p>\n",
              "</div>\n",
              "    <div class=\"colab-df-buttons\">\n",
              "\n",
              "  <div class=\"colab-df-container\">\n",
              "    <button class=\"colab-df-convert\" onclick=\"convertToInteractive('df-6d20e1d7-6430-4b6b-9f59-784b0c054cac')\"\n",
              "            title=\"Convert this dataframe to an interactive table.\"\n",
              "            style=\"display:none;\">\n",
              "\n",
              "  <svg xmlns=\"http://www.w3.org/2000/svg\" height=\"24px\" viewBox=\"0 -960 960 960\">\n",
              "    <path d=\"M120-120v-720h720v720H120Zm60-500h600v-160H180v160Zm220 220h160v-160H400v160Zm0 220h160v-160H400v160ZM180-400h160v-160H180v160Zm440 0h160v-160H620v160ZM180-180h160v-160H180v160Zm440 0h160v-160H620v160Z\"/>\n",
              "  </svg>\n",
              "    </button>\n",
              "\n",
              "  <style>\n",
              "    .colab-df-container {\n",
              "      display:flex;\n",
              "      gap: 12px;\n",
              "    }\n",
              "\n",
              "    .colab-df-convert {\n",
              "      background-color: #E8F0FE;\n",
              "      border: none;\n",
              "      border-radius: 50%;\n",
              "      cursor: pointer;\n",
              "      display: none;\n",
              "      fill: #1967D2;\n",
              "      height: 32px;\n",
              "      padding: 0 0 0 0;\n",
              "      width: 32px;\n",
              "    }\n",
              "\n",
              "    .colab-df-convert:hover {\n",
              "      background-color: #E2EBFA;\n",
              "      box-shadow: 0px 1px 2px rgba(60, 64, 67, 0.3), 0px 1px 3px 1px rgba(60, 64, 67, 0.15);\n",
              "      fill: #174EA6;\n",
              "    }\n",
              "\n",
              "    .colab-df-buttons div {\n",
              "      margin-bottom: 4px;\n",
              "    }\n",
              "\n",
              "    [theme=dark] .colab-df-convert {\n",
              "      background-color: #3B4455;\n",
              "      fill: #D2E3FC;\n",
              "    }\n",
              "\n",
              "    [theme=dark] .colab-df-convert:hover {\n",
              "      background-color: #434B5C;\n",
              "      box-shadow: 0px 1px 3px 1px rgba(0, 0, 0, 0.15);\n",
              "      filter: drop-shadow(0px 1px 2px rgba(0, 0, 0, 0.3));\n",
              "      fill: #FFFFFF;\n",
              "    }\n",
              "  </style>\n",
              "\n",
              "    <script>\n",
              "      const buttonEl =\n",
              "        document.querySelector('#df-6d20e1d7-6430-4b6b-9f59-784b0c054cac button.colab-df-convert');\n",
              "      buttonEl.style.display =\n",
              "        google.colab.kernel.accessAllowed ? 'block' : 'none';\n",
              "\n",
              "      async function convertToInteractive(key) {\n",
              "        const element = document.querySelector('#df-6d20e1d7-6430-4b6b-9f59-784b0c054cac');\n",
              "        const dataTable =\n",
              "          await google.colab.kernel.invokeFunction('convertToInteractive',\n",
              "                                                    [key], {});\n",
              "        if (!dataTable) return;\n",
              "\n",
              "        const docLinkHtml = 'Like what you see? Visit the ' +\n",
              "          '<a target=\"_blank\" href=https://colab.research.google.com/notebooks/data_table.ipynb>data table notebook</a>'\n",
              "          + ' to learn more about interactive tables.';\n",
              "        element.innerHTML = '';\n",
              "        dataTable['output_type'] = 'display_data';\n",
              "        await google.colab.output.renderOutput(dataTable, element);\n",
              "        const docLink = document.createElement('div');\n",
              "        docLink.innerHTML = docLinkHtml;\n",
              "        element.appendChild(docLink);\n",
              "      }\n",
              "    </script>\n",
              "  </div>\n",
              "\n",
              "\n",
              "<div id=\"df-2ae21bf3-74e6-4ed5-858c-f911646af1b4\">\n",
              "  <button class=\"colab-df-quickchart\" onclick=\"quickchart('df-2ae21bf3-74e6-4ed5-858c-f911646af1b4')\"\n",
              "            title=\"Suggest charts.\"\n",
              "            style=\"display:none;\">\n",
              "\n",
              "<svg xmlns=\"http://www.w3.org/2000/svg\" height=\"24px\"viewBox=\"0 0 24 24\"\n",
              "     width=\"24px\">\n",
              "    <g>\n",
              "        <path d=\"M19 3H5c-1.1 0-2 .9-2 2v14c0 1.1.9 2 2 2h14c1.1 0 2-.9 2-2V5c0-1.1-.9-2-2-2zM9 17H7v-7h2v7zm4 0h-2V7h2v10zm4 0h-2v-4h2v4z\"/>\n",
              "    </g>\n",
              "</svg>\n",
              "  </button>\n",
              "\n",
              "<style>\n",
              "  .colab-df-quickchart {\n",
              "      --bg-color: #E8F0FE;\n",
              "      --fill-color: #1967D2;\n",
              "      --hover-bg-color: #E2EBFA;\n",
              "      --hover-fill-color: #174EA6;\n",
              "      --disabled-fill-color: #AAA;\n",
              "      --disabled-bg-color: #DDD;\n",
              "  }\n",
              "\n",
              "  [theme=dark] .colab-df-quickchart {\n",
              "      --bg-color: #3B4455;\n",
              "      --fill-color: #D2E3FC;\n",
              "      --hover-bg-color: #434B5C;\n",
              "      --hover-fill-color: #FFFFFF;\n",
              "      --disabled-bg-color: #3B4455;\n",
              "      --disabled-fill-color: #666;\n",
              "  }\n",
              "\n",
              "  .colab-df-quickchart {\n",
              "    background-color: var(--bg-color);\n",
              "    border: none;\n",
              "    border-radius: 50%;\n",
              "    cursor: pointer;\n",
              "    display: none;\n",
              "    fill: var(--fill-color);\n",
              "    height: 32px;\n",
              "    padding: 0;\n",
              "    width: 32px;\n",
              "  }\n",
              "\n",
              "  .colab-df-quickchart:hover {\n",
              "    background-color: var(--hover-bg-color);\n",
              "    box-shadow: 0 1px 2px rgba(60, 64, 67, 0.3), 0 1px 3px 1px rgba(60, 64, 67, 0.15);\n",
              "    fill: var(--button-hover-fill-color);\n",
              "  }\n",
              "\n",
              "  .colab-df-quickchart-complete:disabled,\n",
              "  .colab-df-quickchart-complete:disabled:hover {\n",
              "    background-color: var(--disabled-bg-color);\n",
              "    fill: var(--disabled-fill-color);\n",
              "    box-shadow: none;\n",
              "  }\n",
              "\n",
              "  .colab-df-spinner {\n",
              "    border: 2px solid var(--fill-color);\n",
              "    border-color: transparent;\n",
              "    border-bottom-color: var(--fill-color);\n",
              "    animation:\n",
              "      spin 1s steps(1) infinite;\n",
              "  }\n",
              "\n",
              "  @keyframes spin {\n",
              "    0% {\n",
              "      border-color: transparent;\n",
              "      border-bottom-color: var(--fill-color);\n",
              "      border-left-color: var(--fill-color);\n",
              "    }\n",
              "    20% {\n",
              "      border-color: transparent;\n",
              "      border-left-color: var(--fill-color);\n",
              "      border-top-color: var(--fill-color);\n",
              "    }\n",
              "    30% {\n",
              "      border-color: transparent;\n",
              "      border-left-color: var(--fill-color);\n",
              "      border-top-color: var(--fill-color);\n",
              "      border-right-color: var(--fill-color);\n",
              "    }\n",
              "    40% {\n",
              "      border-color: transparent;\n",
              "      border-right-color: var(--fill-color);\n",
              "      border-top-color: var(--fill-color);\n",
              "    }\n",
              "    60% {\n",
              "      border-color: transparent;\n",
              "      border-right-color: var(--fill-color);\n",
              "    }\n",
              "    80% {\n",
              "      border-color: transparent;\n",
              "      border-right-color: var(--fill-color);\n",
              "      border-bottom-color: var(--fill-color);\n",
              "    }\n",
              "    90% {\n",
              "      border-color: transparent;\n",
              "      border-bottom-color: var(--fill-color);\n",
              "    }\n",
              "  }\n",
              "</style>\n",
              "\n",
              "  <script>\n",
              "    async function quickchart(key) {\n",
              "      const quickchartButtonEl =\n",
              "        document.querySelector('#' + key + ' button');\n",
              "      quickchartButtonEl.disabled = true;  // To prevent multiple clicks.\n",
              "      quickchartButtonEl.classList.add('colab-df-spinner');\n",
              "      try {\n",
              "        const charts = await google.colab.kernel.invokeFunction(\n",
              "            'suggestCharts', [key], {});\n",
              "      } catch (error) {\n",
              "        console.error('Error during call to suggestCharts:', error);\n",
              "      }\n",
              "      quickchartButtonEl.classList.remove('colab-df-spinner');\n",
              "      quickchartButtonEl.classList.add('colab-df-quickchart-complete');\n",
              "    }\n",
              "    (() => {\n",
              "      let quickchartButtonEl =\n",
              "        document.querySelector('#df-2ae21bf3-74e6-4ed5-858c-f911646af1b4 button');\n",
              "      quickchartButtonEl.style.display =\n",
              "        google.colab.kernel.accessAllowed ? 'block' : 'none';\n",
              "    })();\n",
              "  </script>\n",
              "</div>\n",
              "    </div>\n",
              "  </div>\n"
            ]
          },
          "metadata": {},
          "execution_count": 51
        }
      ]
    },
    {
      "cell_type": "markdown",
      "metadata": {
        "id": "gCX9965dhzqZ"
      },
      "source": [
        "# **Conclusion**"
      ]
    },
    {
      "cell_type": "markdown",
      "metadata": {
        "id": "Fjb1IsQkh3yE"
      },
      "source": []
    }
  ],
  "metadata": {
    "colab": {
      "collapsed_sections": [
        "vncDsAP0Gaoa",
        "FJNUwmbgGyua",
        "w6K7xa23Elo4",
        "yQaldy8SH6Dl",
        "O_i_v8NEhb9l",
        "HhfV-JJviCcP",
        "Y3lxredqlCYt",
        "3RnN4peoiCZX",
        "x71ZqKXriCWQ",
        "7hBIi_osiCS2",
        "JlHwYmJAmNHm",
        "35m5QtbWiB9F",
        "PoPl-ycgm1ru",
        "H0kj-8xxnORC",
        "nA9Y7ga8ng1Z",
        "u3PMJOP6ngxN",
        "FWk1Ue6CP3FA",
        "bKJF3rekwFvQ",
        "MSa1f5Uengrz",
        "GF8Ens_Soomf",
        "0wOQAZs5pc--",
        "lQ7QKXXCp7Bj",
        "KSlN3yHqYklG",
        "EM7whBJCYoAo",
        "4Of9eVA-YrdM",
        "bamQiAODYuh1",
        "OH-pJp9IphqM",
        "PIIx-8_IphqN",
        "NC_X3p0fY2L0",
        "YPEH6qLeZNRQ",
        "yLjJCtPM0KBk",
        "Iwf50b-R2tYG",
        "WVIkgGqN3qsr",
        "XkPnILGE3zoT",
        "Hlsf0x5436Go",
        "mT9DMSJo4nBL",
        "T0VqWOYE6DLQ",
        "-oLEiFgy-5Pf",
        "BhH2vgX9EjGr",
        "kO-5U8lUmUEE",
        "VfCC591jGiD4",
        "OB4l2ZhMeS1U",
        "ArJBuiUVfxKd",
        "dJ2tPlVmpsJ0",
        "4LCflwq1mXq-",
        "Fze-IPXLpx6K",
        "CeAm7lpdnIw1",
        "cBFFvTBNJzUa",
        "xpnTXSVdoTab",
        "gCX9965dhzqZ"
      ],
      "provenance": [],
      "include_colab_link": true
    },
    "kernelspec": {
      "display_name": "Python 3",
      "name": "python3"
    },
    "language_info": {
      "name": "python"
    }
  },
  "nbformat": 4,
  "nbformat_minor": 0
}